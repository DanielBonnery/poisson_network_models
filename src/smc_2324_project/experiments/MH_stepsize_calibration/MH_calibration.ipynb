{
 "cells": [
  {
   "cell_type": "code",
   "execution_count": 1,
   "metadata": {},
   "outputs": [
    {
     "name": "stderr",
     "output_type": "stream",
     "text": [
      "c:\\Users\\Paul\\.conda\\envs\\hmm\\Lib\\site-packages\\paramiko\\transport.py:219: CryptographyDeprecationWarning: Blowfish has been deprecated\n",
      "  \"class\": algorithms.Blowfish,\n"
     ]
    }
   ],
   "source": [
    "import os\n",
    "import pickle\n",
    "import paramiko\n",
    "from itertools import product\n",
    "\n",
    "os.chdir('../../../..')"
   ]
  },
  {
   "cell_type": "markdown",
   "metadata": {},
   "source": [
    "# SSH hosts"
   ]
  },
  {
   "cell_type": "code",
   "execution_count": 2,
   "metadata": {},
   "outputs": [],
   "source": [
    "# username and password\n",
    "username = \"paul.guillermit\"\n",
    "password = input(\"Enter the password for the SSH: \")"
   ]
  },
  {
   "cell_type": "code",
   "execution_count": 3,
   "metadata": {},
   "outputs": [
    {
     "data": {
      "text/plain": [
       "'c:\\\\Users\\\\Paul\\\\Documents\\\\X\\\\4A\\\\S1\\\\HMM\\\\poisson_network_models'"
      ]
     },
     "execution_count": 3,
     "metadata": {},
     "output_type": "execute_result"
    }
   ],
   "source": [
    "os.getcwd()"
   ]
  },
  {
   "cell_type": "code",
   "execution_count": 4,
   "metadata": {},
   "outputs": [
    {
     "name": "stdout",
     "output_type": "stream",
     "text": [
      "Hosts available: 169\n"
     ]
    }
   ],
   "source": [
    "# Retrieve the list of hosts\n",
    "file_path = \"src/smc_2324_project/parallelization/ssh_hosts.pkl\"\n",
    "with open(file_path, \"rb\") as file:\n",
    "    ssh_hosts = pickle.load(file)\n",
    "print(\"Hosts available:\",len(ssh_hosts))"
   ]
  },
  {
   "cell_type": "markdown",
   "metadata": {},
   "source": [
    "## Grid search"
   ]
  },
  {
   "cell_type": "code",
   "execution_count": 5,
   "metadata": {},
   "outputs": [
    {
     "name": "stdout",
     "output_type": "stream",
     "text": [
      "Connecting to host: allemagne.polytechnique.fr\n"
     ]
    }
   ],
   "source": [
    "# progression\n",
    "host = ssh_hosts[0]\n",
    "print(\"Connecting to host:\", host)\n",
    "\n",
    "with paramiko.SSHClient() as client:\n",
    "    client.set_missing_host_key_policy(paramiko.AutoAddPolicy())\n",
    "    client.connect(host, 22, username=username, password=password)\n",
    "\n",
    "    # client.exec_command(\"mkdir hmm/poisson_network_models/src/data/hyperparams_tuning/\")"
   ]
  },
  {
   "cell_type": "code",
   "execution_count": 6,
   "metadata": {},
   "outputs": [
    {
     "name": "stdout",
     "output_type": "stream",
     "text": [
      "Host: allemagne.polytechnique.fr with stepsize factor: 0.1\n",
      "Host: angleterre.polytechnique.fr with stepsize factor: 0.1\n",
      "Host: autriche.polytechnique.fr with stepsize factor: 0.1\n",
      "Host: belgique.polytechnique.fr with stepsize factor: 0.1\n",
      "Host: espagne.polytechnique.fr with stepsize factor: 0.1\n",
      "Host: finlande.polytechnique.fr with stepsize factor: 0.1\n",
      "Host: france.polytechnique.fr with stepsize factor: 0.1\n",
      "Host: groenland.polytechnique.fr with stepsize factor: 0.1\n",
      "Host: hollande.polytechnique.fr with stepsize factor: 0.1\n",
      "Host: hongrie.polytechnique.fr with stepsize factor: 0.1\n",
      "Host: irlande.polytechnique.fr with stepsize factor: 0.30000000000000004\n",
      "Host: islande.polytechnique.fr with stepsize factor: 0.30000000000000004\n",
      "Host: lituanie.polytechnique.fr with stepsize factor: 0.30000000000000004\n",
      "Host: malte.polytechnique.fr with stepsize factor: 0.30000000000000004\n",
      "Host: monaco.polytechnique.fr with stepsize factor: 0.30000000000000004\n",
      "Host: pologne.polytechnique.fr with stepsize factor: 0.30000000000000004\n",
      "Host: portugal.polytechnique.fr with stepsize factor: 0.30000000000000004\n",
      "Host: roumanie.polytechnique.fr with stepsize factor: 0.30000000000000004\n",
      "Host: suede.polytechnique.fr with stepsize factor: 0.30000000000000004\n",
      "Host: albatros.polytechnique.fr with stepsize factor: 0.30000000000000004\n",
      "Host: autruche.polytechnique.fr with stepsize factor: 0.5000000000000001\n",
      "Host: bengali.polytechnique.fr with stepsize factor: 0.5000000000000001\n",
      "Host: coucou.polytechnique.fr with stepsize factor: 0.5000000000000001\n",
      "Host: dindon.polytechnique.fr with stepsize factor: 0.5000000000000001\n",
      "Host: epervier.polytechnique.fr with stepsize factor: 0.5000000000000001\n",
      "Host: faisan.polytechnique.fr with stepsize factor: 0.5000000000000001\n",
      "Host: gelinotte.polytechnique.fr with stepsize factor: 0.5000000000000001\n",
      "Host: hibou.polytechnique.fr with stepsize factor: 0.5000000000000001\n",
      "Host: harpie.polytechnique.fr with stepsize factor: 0.5000000000000001\n",
      "Host: jabiru.polytechnique.fr with stepsize factor: 0.5000000000000001\n",
      "Host: kamiche.polytechnique.fr with stepsize factor: 0.7000000000000001\n",
      "Host: linotte.polytechnique.fr with stepsize factor: 0.7000000000000001\n",
      "Host: loriol.polytechnique.fr with stepsize factor: 0.7000000000000001\n",
      "Host: mouette.polytechnique.fr with stepsize factor: 0.7000000000000001\n",
      "Host: nandou.polytechnique.fr with stepsize factor: 0.7000000000000001\n",
      "Host: ombrette.polytechnique.fr with stepsize factor: 0.7000000000000001\n",
      "Host: perdrix.polytechnique.fr with stepsize factor: 0.7000000000000001\n",
      "Host: quetzal.polytechnique.fr with stepsize factor: 0.7000000000000001\n",
      "Host: quiscale.polytechnique.fr with stepsize factor: 0.7000000000000001\n",
      "Host: rouloul.polytechnique.fr with stepsize factor: 0.7000000000000001\n",
      "Host: sitelle.polytechnique.fr with stepsize factor: 0.9000000000000001\n",
      "Host: traquet.polytechnique.fr with stepsize factor: 0.9000000000000001\n",
      "Host: urabu.polytechnique.fr with stepsize factor: 0.9000000000000001\n",
      "Host: verdier.polytechnique.fr with stepsize factor: 0.9000000000000001\n",
      "Host: aerides.polytechnique.fr with stepsize factor: 0.9000000000000001\n",
      "Host: barlia.polytechnique.fr with stepsize factor: 0.9000000000000001\n",
      "Host: calanthe.polytechnique.fr with stepsize factor: 0.9000000000000001\n",
      "Host: diuris.polytechnique.fr with stepsize factor: 0.9000000000000001\n",
      "Host: encyclia.polytechnique.fr with stepsize factor: 0.9000000000000001\n",
      "Host: epipactis.polytechnique.fr with stepsize factor: 0.9000000000000001\n",
      "Host: gennaria.polytechnique.fr with stepsize factor: 1.1000000000000003\n",
      "Host: habenaria.polytechnique.fr with stepsize factor: 1.1000000000000003\n",
      "Host: isotria.polytechnique.fr with stepsize factor: 1.1000000000000003\n",
      "Host: ipsea.polytechnique.fr with stepsize factor: 1.1000000000000003\n",
      "Host: liparis.polytechnique.fr with stepsize factor: 1.1000000000000003\n",
      "Host: lycaste.polytechnique.fr with stepsize factor: 1.1000000000000003\n",
      "Host: malaxis.polytechnique.fr with stepsize factor: 1.1000000000000003\n",
      "Host: neotinea.polytechnique.fr with stepsize factor: 1.1000000000000003\n",
      "Host: oncidium.polytechnique.fr with stepsize factor: 1.1000000000000003\n",
      "Host: ophrys.polytechnique.fr with stepsize factor: 1.1000000000000003\n",
      "Host: orchis.polytechnique.fr with stepsize factor: 1.3000000000000003\n",
      "Host: pleione.polytechnique.fr with stepsize factor: 1.3000000000000003\n",
      "Host: pogonia.polytechnique.fr with stepsize factor: 1.3000000000000003\n",
      "Host: serapias.polytechnique.fr with stepsize factor: 1.3000000000000003\n",
      "Host: telipogon.polytechnique.fr with stepsize factor: 1.3000000000000003\n",
      "Host: vanda.polytechnique.fr with stepsize factor: 1.3000000000000003\n",
      "Host: vanilla.polytechnique.fr with stepsize factor: 1.3000000000000003\n",
      "Host: xylobium.polytechnique.fr with stepsize factor: 1.3000000000000003\n",
      "Host: zeuxine.polytechnique.fr with stepsize factor: 1.3000000000000003\n",
      "Host: ain.polytechnique.fr with stepsize factor: 1.3000000000000003\n",
      "Host: allier.polytechnique.fr with stepsize factor: 1.5000000000000004\n",
      "Host: ardennes.polytechnique.fr with stepsize factor: 1.5000000000000004\n",
      "Host: carmor.polytechnique.fr with stepsize factor: 1.5000000000000004\n",
      "Host: charente.polytechnique.fr with stepsize factor: 1.5000000000000004\n",
      "Host: cher.polytechnique.fr with stepsize factor: 1.5000000000000004\n",
      "Host: creuse.polytechnique.fr with stepsize factor: 1.5000000000000004\n",
      "Host: dordogne.polytechnique.fr with stepsize factor: 1.5000000000000004\n",
      "Host: doubs.polytechnique.fr with stepsize factor: 1.5000000000000004\n",
      "Host: essonne.polytechnique.fr with stepsize factor: 1.5000000000000004\n",
      "Host: finistere.polytechnique.fr with stepsize factor: 1.5000000000000004\n",
      "Host: gironde.polytechnique.fr with stepsize factor: 1.7000000000000004\n",
      "Host: indre.polytechnique.fr with stepsize factor: 1.7000000000000004\n",
      "Host: jura.polytechnique.fr with stepsize factor: 1.7000000000000004\n",
      "Host: landes.polytechnique.fr with stepsize factor: 1.7000000000000004\n",
      "Host: loire.polytechnique.fr with stepsize factor: 1.7000000000000004\n",
      "Host: manche.polytechnique.fr with stepsize factor: 1.7000000000000004\n",
      "Host: marne.polytechnique.fr with stepsize factor: 1.7000000000000004\n",
      "Host: mayenne.polytechnique.fr with stepsize factor: 1.7000000000000004\n",
      "Host: morbihan.polytechnique.fr with stepsize factor: 1.7000000000000004\n",
      "Host: moselle.polytechnique.fr with stepsize factor: 1.7000000000000004\n",
      "Host: saone.polytechnique.fr with stepsize factor: 1.9000000000000004\n",
      "Host: somme.polytechnique.fr with stepsize factor: 1.9000000000000004\n",
      "Host: vendee.polytechnique.fr with stepsize factor: 1.9000000000000004\n",
      "Host: vosges.polytechnique.fr with stepsize factor: 1.9000000000000004\n",
      "Host: ablette.polytechnique.fr with stepsize factor: 1.9000000000000004\n",
      "Host: anchois.polytechnique.fr with stepsize factor: 1.9000000000000004\n",
      "Host: anguille.polytechnique.fr with stepsize factor: 1.9000000000000004\n",
      "Host: barbeau.polytechnique.fr with stepsize factor: 1.9000000000000004\n",
      "Host: barbue.polytechnique.fr with stepsize factor: 1.9000000000000004\n",
      "Host: baudroie.polytechnique.fr with stepsize factor: 1.9000000000000004\n"
     ]
    }
   ],
   "source": [
    "import numpy as np\n",
    "\n",
    "# parameters\n",
    "host_to_datasets = {}\n",
    "ssh_host_iter = iter(ssh_hosts)\n",
    "n_hosts_per_arg = 10\n",
    "\n",
    "# launch the parallel computing\n",
    "\n",
    "for MH_stepsize_factor in np.arange(0.1, 2, 0.2):\n",
    "\n",
    "    for idx_host in range(n_hosts_per_arg):\n",
    "        # init\n",
    "        host = next(ssh_host_iter)\n",
    "        print(\"Host:\", host, \"with stepsize factor:\", MH_stepsize_factor)\n",
    "        host_to_datasets[host] = MH_stepsize_factor\n",
    "\n",
    "        # launch\n",
    "        with paramiko.SSHClient() as client:\n",
    "            client.set_missing_host_key_policy(paramiko.AutoAddPolicy())\n",
    "            client.connect(host, 22, username=username, password=password)\n",
    "            command = \"cd hmm/poisson_network_models\"\n",
    "            command += \"&& export PYTHONPATH=$PYTHONPATH:$(pwd)\"\n",
    "            command += \"&& nohup python src/smc_2324_project/parallelization/MH_stepsize.py {} &\".format(MH_stepsize_factor)\n",
    "            client.exec_command(command)\n",
    "\n",
    "# # save the set-up\n",
    "# save_as_pkl(\"data/host_to_datasets.pkl\",host_to_datasets)"
   ]
  },
  {
   "cell_type": "code",
   "execution_count": null,
   "metadata": {},
   "outputs": [],
   "source": []
  }
 ],
 "metadata": {
  "kernelspec": {
   "display_name": "hmm",
   "language": "python",
   "name": "python3"
  },
  "language_info": {
   "codemirror_mode": {
    "name": "ipython",
    "version": 3
   },
   "file_extension": ".py",
   "mimetype": "text/x-python",
   "name": "python",
   "nbconvert_exporter": "python",
   "pygments_lexer": "ipython3",
   "version": "3.11.5"
  }
 },
 "nbformat": 4,
 "nbformat_minor": 2
}
