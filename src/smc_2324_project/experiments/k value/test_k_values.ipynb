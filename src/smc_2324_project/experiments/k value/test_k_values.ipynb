{
 "cells": [
  {
   "cell_type": "markdown",
   "metadata": {},
   "source": [
    "Read `about_the_implementation.md` for more info."
   ]
  },
  {
   "cell_type": "markdown",
   "metadata": {},
   "source": [
    "# Prior"
   ]
  },
  {
   "cell_type": "code",
   "execution_count": 1,
   "metadata": {},
   "outputs": [
    {
     "name": "stdout",
     "output_type": "stream",
     "text": [
      "C:\\Users\\guspo\\Augustin\\X\\4A\\Cours\\HMC\\poisson_network_models-main\n"
     ]
    }
   ],
   "source": [
    "import numpy as np\n",
    "from matplotlib import pyplot as plt\n",
    "\n",
    "import os\n",
    "os.chdir('../../../..')\n",
    "print(os.getcwd())\n",
    "\n",
    "from src.smc_2324_project.simulate.generate_dataset import *\n",
    "from src.smc_2324_project.tempering.base_dist import *\n",
    "from src.smc_2324_project.tempering.tempering import *"
   ]
  },
  {
   "cell_type": "code",
   "execution_count": 2,
   "metadata": {},
   "outputs": [],
   "source": [
    "# hyperparameters\n",
    "n, k, p = 40, 3, 4\n",
    "gamma_0 = np.array([0.6,0.6,0.6,1, 0, 3, 1.1, 2.2, 0.1, -0.3])\n",
    "V_0 = np.eye(len(gamma_0))\n",
    "e_0 = 3 * np.ones(k)\n",
    "\n",
    "# prior\n",
    "theta_prior = define_theta_prior(gamma_0, V_0, e_0)\n",
    "prior = define_prior(theta_prior, n)"
   ]
  },
  {
   "cell_type": "markdown",
   "metadata": {},
   "source": [
    "# Dataset"
   ]
  },
  {
   "cell_type": "code",
   "execution_count": 3,
   "metadata": {},
   "outputs": [],
   "source": [
    "# generate dataset\n",
    "alpha, beta, nu = generate_network_params(k, gamma_0, V_0, e_0)\n",
    "X = generate_covariates(n, p)\n",
    "sample_from_network((alpha, beta, nu), X)\n",
    "theta = (alpha,beta,nu)\n",
    "Y = sample_from_network(theta,X, return_Z=False)"
   ]
  },
  {
   "cell_type": "markdown",
   "metadata": {},
   "source": [
    "# Logtarget and model"
   ]
  },
  {
   "cell_type": "code",
   "execution_count": 4,
   "metadata": {},
   "outputs": [],
   "source": [
    "compute_llh_target = define_llh_target(prior, X, Y, k)"
   ]
  },
  {
   "cell_type": "code",
   "execution_count": 5,
   "metadata": {},
   "outputs": [],
   "source": [
    "from particles.smc_samplers import TemperingBridge\n",
    "\n",
    "class ToyBridge(TemperingBridge):\n",
    "    def logtarget(self, theta):\n",
    "        return compute_llh_target(theta)"
   ]
  },
  {
   "cell_type": "code",
   "execution_count": 6,
   "metadata": {},
   "outputs": [],
   "source": [
    "toy_bridge = ToyBridge(base_dist=prior)"
   ]
  },
  {
   "cell_type": "markdown",
   "metadata": {},
   "source": [
    "# Move"
   ]
  },
  {
   "cell_type": "code",
   "execution_count": 7,
   "metadata": {},
   "outputs": [],
   "source": [
    "move = FixedLenMCMCSequence(mcmc=CustomGibbs(k, e_0, e_0), len_chain=5)"
   ]
  },
  {
   "cell_type": "markdown",
   "metadata": {},
   "source": [
    "# AdaptiveTempering"
   ]
  },
  {
   "cell_type": "code",
   "execution_count": 8,
   "metadata": {},
   "outputs": [
    {
     "name": "stdout",
     "output_type": "stream",
     "text": [
      "t=0, ESS=180.00, tempering exponent=1.83e-07\n",
      "t=1, Metropolis acc. rate (over 1 steps): 0.090, ESS=180.00, tempering exponent=5.84e-07\n",
      "t=2, Metropolis acc. rate (over 1 steps): 0.115, ESS=180.00, tempering exponent=2.14e-06\n",
      "t=3, Metropolis acc. rate (over 1 steps): 0.125, ESS=180.00, tempering exponent=4.29e-06\n",
      "t=4, Metropolis acc. rate (over 1 steps): 0.120, ESS=180.00, tempering exponent=6.75e-06\n",
      "t=5, Metropolis acc. rate (over 1 steps): 0.050, ESS=180.00, tempering exponent=9.98e-06\n",
      "t=6, Metropolis acc. rate (over 1 steps): 0.085, ESS=180.00, tempering exponent=1.34e-05\n",
      "t=7, Metropolis acc. rate (over 1 steps): 0.075, ESS=180.00, tempering exponent=1.78e-05\n",
      "t=8, Metropolis acc. rate (over 1 steps): 0.055, ESS=180.00, tempering exponent=2.3e-05\n",
      "t=9, Metropolis acc. rate (over 1 steps): 0.050, ESS=180.00, tempering exponent=2.85e-05\n",
      "t=10, Metropolis acc. rate (over 1 steps): 0.020, ESS=180.00, tempering exponent=3.49e-05\n",
      "t=11, Metropolis acc. rate (over 1 steps): 0.010, ESS=180.00, tempering exponent=4.3e-05\n",
      "t=12, Metropolis acc. rate (over 1 steps): 0.040, ESS=180.00, tempering exponent=5.04e-05\n",
      "t=13, Metropolis acc. rate (over 1 steps): 0.025, ESS=180.00, tempering exponent=5.94e-05\n",
      "t=14, Metropolis acc. rate (over 1 steps): 0.030, ESS=180.00, tempering exponent=6.91e-05\n",
      "t=15, Metropolis acc. rate (over 1 steps): 0.025, ESS=180.00, tempering exponent=8.04e-05\n",
      "t=16, Metropolis acc. rate (over 1 steps): 0.030, ESS=180.00, tempering exponent=9.17e-05\n",
      "t=17, Metropolis acc. rate (over 1 steps): 0.025, ESS=180.00, tempering exponent=0.000103\n",
      "t=18, Metropolis acc. rate (over 1 steps): 0.015, ESS=180.00, tempering exponent=0.000117\n",
      "t=19, Metropolis acc. rate (over 1 steps): 0.020, ESS=180.00, tempering exponent=0.000129\n",
      "t=20, Metropolis acc. rate (over 1 steps): 0.000, ESS=180.00, tempering exponent=0.000144\n",
      "t=21, Metropolis acc. rate (over 1 steps): 0.020, ESS=180.00, tempering exponent=0.00016\n",
      "t=22, Metropolis acc. rate (over 1 steps): 0.015, ESS=180.00, tempering exponent=0.000176\n",
      "t=23, Metropolis acc. rate (over 1 steps): 0.025, ESS=180.00, tempering exponent=0.000196\n",
      "t=24, Metropolis acc. rate (over 1 steps): 0.010, ESS=180.00, tempering exponent=0.00022\n",
      "t=25, Metropolis acc. rate (over 1 steps): 0.015, ESS=180.00, tempering exponent=0.000244\n",
      "t=26, Metropolis acc. rate (over 1 steps): 0.005, ESS=180.00, tempering exponent=0.000268\n",
      "t=27, Metropolis acc. rate (over 1 steps): 0.005, ESS=180.00, tempering exponent=0.000296\n",
      "t=28, Metropolis acc. rate (over 1 steps): 0.000, ESS=180.00, tempering exponent=0.000326\n",
      "t=29, Metropolis acc. rate (over 1 steps): 0.010, ESS=180.00, tempering exponent=0.000364\n",
      "t=30, Metropolis acc. rate (over 1 steps): 0.000, ESS=180.00, tempering exponent=0.000404\n",
      "t=31, Metropolis acc. rate (over 1 steps): 0.010, ESS=180.00, tempering exponent=0.000451\n",
      "t=32, Metropolis acc. rate (over 1 steps): 0.000, ESS=180.00, tempering exponent=0.000492\n",
      "t=33, Metropolis acc. rate (over 1 steps): 0.010, ESS=180.00, tempering exponent=0.000543\n",
      "t=34, Metropolis acc. rate (over 1 steps): 0.000, ESS=180.00, tempering exponent=0.000595\n",
      "t=35, Metropolis acc. rate (over 1 steps): 0.000, ESS=180.00, tempering exponent=0.000654\n",
      "t=36, Metropolis acc. rate (over 1 steps): 0.005, ESS=180.00, tempering exponent=0.000724\n",
      "t=37, Metropolis acc. rate (over 1 steps): 0.005, ESS=180.00, tempering exponent=0.000783\n",
      "t=38, Metropolis acc. rate (over 1 steps): 0.000, ESS=180.00, tempering exponent=0.000839\n",
      "t=39, Metropolis acc. rate (over 1 steps): 0.015, ESS=180.00, tempering exponent=0.000908\n",
      "t=40, Metropolis acc. rate (over 1 steps): 0.000, ESS=180.00, tempering exponent=0.000983\n",
      "t=41, Metropolis acc. rate (over 1 steps): 0.010, ESS=180.00, tempering exponent=0.00106\n",
      "t=42, Metropolis acc. rate (over 1 steps): 0.025, ESS=180.00, tempering exponent=0.00114\n",
      "t=43, Metropolis acc. rate (over 1 steps): 0.010, ESS=180.00, tempering exponent=0.00122\n",
      "t=44, Metropolis acc. rate (over 1 steps): 0.000, ESS=180.00, tempering exponent=0.00132\n",
      "t=45, Metropolis acc. rate (over 1 steps): 0.005, ESS=180.00, tempering exponent=0.00139\n",
      "t=46, Metropolis acc. rate (over 1 steps): 0.005, ESS=180.00, tempering exponent=0.00148\n",
      "t=47, Metropolis acc. rate (over 1 steps): 0.005, ESS=180.00, tempering exponent=0.00157\n",
      "t=48, Metropolis acc. rate (over 1 steps): 0.005, ESS=180.00, tempering exponent=0.00166\n",
      "t=49, Metropolis acc. rate (over 1 steps): 0.000, ESS=180.00, tempering exponent=0.00175\n",
      "t=50, Metropolis acc. rate (over 1 steps): 0.000, ESS=180.00, tempering exponent=0.00186\n",
      "t=51, Metropolis acc. rate (over 1 steps): 0.005, ESS=180.00, tempering exponent=0.00197\n",
      "t=52, Metropolis acc. rate (over 1 steps): 0.010, ESS=180.00, tempering exponent=0.00209\n",
      "t=53, Metropolis acc. rate (over 1 steps): 0.000, ESS=180.00, tempering exponent=0.00224\n",
      "t=54, Metropolis acc. rate (over 1 steps): 0.010, ESS=180.00, tempering exponent=0.00238\n",
      "t=55, Metropolis acc. rate (over 1 steps): 0.000, ESS=180.00, tempering exponent=0.00255\n",
      "t=56, Metropolis acc. rate (over 1 steps): 0.015, ESS=180.00, tempering exponent=0.00274\n",
      "t=57, Metropolis acc. rate (over 1 steps): 0.010, ESS=180.00, tempering exponent=0.00293\n",
      "t=58, Metropolis acc. rate (over 1 steps): 0.010, ESS=180.00, tempering exponent=0.00317\n",
      "t=59, Metropolis acc. rate (over 1 steps): 0.005, ESS=180.00, tempering exponent=0.00339\n",
      "t=60, Metropolis acc. rate (over 1 steps): 0.015, ESS=180.00, tempering exponent=0.00359\n",
      "t=61, Metropolis acc. rate (over 1 steps): 0.000, ESS=180.00, tempering exponent=0.00389\n",
      "t=62, Metropolis acc. rate (over 1 steps): 0.010, ESS=180.00, tempering exponent=0.00418\n",
      "t=63, Metropolis acc. rate (over 1 steps): 0.000, ESS=180.00, tempering exponent=0.00452\n",
      "t=64, Metropolis acc. rate (over 1 steps): 0.000, ESS=180.00, tempering exponent=0.00487\n",
      "t=65, Metropolis acc. rate (over 1 steps): 0.005, ESS=180.00, tempering exponent=0.00518\n",
      "t=66, Metropolis acc. rate (over 1 steps): 0.010, ESS=180.00, tempering exponent=0.00556\n",
      "t=67, Metropolis acc. rate (over 1 steps): 0.005, ESS=180.00, tempering exponent=0.006\n",
      "t=68, Metropolis acc. rate (over 1 steps): 0.010, ESS=180.00, tempering exponent=0.00635\n",
      "t=69, Metropolis acc. rate (over 1 steps): 0.000, ESS=180.00, tempering exponent=0.00694\n",
      "t=70, Metropolis acc. rate (over 1 steps): 0.015, ESS=180.00, tempering exponent=0.00768\n",
      "t=71, Metropolis acc. rate (over 1 steps): 0.000, ESS=180.00, tempering exponent=0.00848\n",
      "t=72, Metropolis acc. rate (over 1 steps): 0.000, ESS=180.00, tempering exponent=0.00926\n",
      "t=73, Metropolis acc. rate (over 1 steps): 0.000, ESS=180.00, tempering exponent=0.01\n",
      "t=74, Metropolis acc. rate (over 1 steps): 0.010, ESS=180.00, tempering exponent=0.0108\n",
      "t=75, Metropolis acc. rate (over 1 steps): 0.000, ESS=180.00, tempering exponent=0.0116\n",
      "t=76, Metropolis acc. rate (over 1 steps): 0.000, ESS=180.00, tempering exponent=0.0126\n",
      "t=77, Metropolis acc. rate (over 1 steps): 0.000, ESS=180.00, tempering exponent=0.0139\n",
      "t=78, Metropolis acc. rate (over 1 steps): 0.000, ESS=180.00, tempering exponent=0.0163\n",
      "t=79, Metropolis acc. rate (over 1 steps): 0.000, ESS=180.00, tempering exponent=0.022\n",
      "t=80, Metropolis acc. rate (over 1 steps): 0.000, ESS=180.00, tempering exponent=0.0345\n",
      "t=81, Metropolis acc. rate (over 1 steps): 0.000, ESS=180.00, tempering exponent=0.0446\n",
      "t=82, Metropolis acc. rate (over 1 steps): 0.000, ESS=180.00, tempering exponent=0.053\n",
      "t=83, Metropolis acc. rate (over 1 steps): 0.000, ESS=180.00, tempering exponent=0.0606\n",
      "t=84, Metropolis acc. rate (over 1 steps): 0.000, ESS=180.00, tempering exponent=0.0682\n",
      "t=85, Metropolis acc. rate (over 1 steps): 0.000, ESS=180.00, tempering exponent=0.0769\n",
      "t=86, Metropolis acc. rate (over 1 steps): 0.000, ESS=180.00, tempering exponent=0.0881\n",
      "t=87, Metropolis acc. rate (over 1 steps): 0.000, ESS=180.00, tempering exponent=0.108\n",
      "t=88, Metropolis acc. rate (over 1 steps): 0.000, ESS=180.00, tempering exponent=0.156\n",
      "t=89, Metropolis acc. rate (over 1 steps): 0.000, ESS=180.00, tempering exponent=0.224\n",
      "t=90, Metropolis acc. rate (over 1 steps): 0.000, ESS=180.00, tempering exponent=0.313\n",
      "t=91, Metropolis acc. rate (over 1 steps): 0.000, ESS=180.00, tempering exponent=0.421\n",
      "t=92, Metropolis acc. rate (over 1 steps): 0.005, ESS=180.00, tempering exponent=0.527\n",
      "t=93, Metropolis acc. rate (over 1 steps): 0.000, ESS=180.00, tempering exponent=0.624\n",
      "t=94, Metropolis acc. rate (over 1 steps): 0.000, ESS=180.00, tempering exponent=0.726\n",
      "t=95, Metropolis acc. rate (over 1 steps): 0.000, ESS=180.00, tempering exponent=0.83\n",
      "t=96, Metropolis acc. rate (over 1 steps): 0.000, ESS=180.00, tempering exponent=0.947\n",
      "t=97, Metropolis acc. rate (over 1 steps): 0.000, ESS=196.51, tempering exponent=1\n"
     ]
    }
   ],
   "source": [
    "import particles\n",
    "\n",
    "# finally\n",
    "fk_tpr = FlexibeAdaptiveTempering(model=toy_bridge, len_chain=100, \n",
    "                                  move=move, wastefree=False,\n",
    "                                  tempering_step_size = 0.1) # tempering_step_size = 1-tau_1\n",
    "alg = particles.SMC(fk=fk_tpr, N=200, ESSrmin=0.8,\n",
    "                    store_history=True, verbose=True)\n",
    "alg.run()"
   ]
  },
  {
   "cell_type": "markdown",
   "metadata": {},
   "source": [
    "# Plot"
   ]
  },
  {
   "cell_type": "code",
   "execution_count": 9,
   "metadata": {},
   "outputs": [
    {
     "data": {
      "image/png": "[encoded data removed]",
      "text/plain": [
       "<Figure size 640x480 with 1 Axes>"
      ]
     },
     "metadata": {},
     "output_type": "display_data"
    }
   ],
   "source": [
    "# exponents\n",
    "exponents = alg.X.shared[\"exponents\"]\n",
    "plt.plot(exponents)\n",
    "plt.title(\"exponents with tau_1 = 0.5\")\n",
    "plt.show()"
   ]
  },
  {
   "cell_type": "code",
   "execution_count": 10,
   "metadata": {},
   "outputs": [
    {
     "data": {
      "text/plain": [
       "<matplotlib.legend.Legend at 0x1759e021fa0>"
      ]
     },
     "execution_count": 10,
     "metadata": {},
     "output_type": "execute_result"
    },
    {
     "data": {
      "image/png": "[encoded data removed]",
      "text/plain": [
       "<Figure size 1200x200 with 4 Axes>"
      ]
     },
     "metadata": {},
     "output_type": "display_data"
    }
   ],
   "source": [
    "# beta distribution\n",
    "plt.style.use('ggplot')\n",
    "fig = plt.figure(figsize=(12, 2))\n",
    "for beta_idx in range(4):\n",
    "    plt.subplot(1, 4, beta_idx+1)\n",
    "    for t in [15, 23, 35]:\n",
    "        beta_i = alg.hist.X[t].theta[\"theta\"][\"gamma\"][:,k*(k+1)//2+beta_idx]\n",
    "        weights = alg.hist.wgts[t].W\n",
    "        plt.hist(beta_i, weights=weights, label=\"t=%i\" % t, \n",
    "                 alpha=0.5, density=True)\n",
    "    plt.xlabel(beta_idx)\n",
    "plt.legend()"
   ]
  },
  {
   "cell_type": "code",
   "execution_count": null,
   "metadata": {},
   "outputs": [],
   "source": []
  }
 ],
 "metadata": {
  "kernelspec": {
   "display_name": "Python 3 (ipykernel)",
   "language": "python",
   "name": "python3"
  },
  "language_info": {
   "codemirror_mode": {
    "name": "ipython",
    "version": 3
   },
   "file_extension": ".py",
   "mimetype": "text/x-python",
   "name": "python",
   "nbconvert_exporter": "python",
   "pygments_lexer": "ipython3",
   "version": "3.9.13"
  }
 },
 "nbformat": 4,
 "nbformat_minor": 4
}
