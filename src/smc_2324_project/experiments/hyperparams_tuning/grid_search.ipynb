{
 "cells": [
  {
   "cell_type": "code",
   "execution_count": 1,
   "metadata": {},
   "outputs": [
    {
     "name": "stderr",
     "output_type": "stream",
     "text": [
      "c:\\Users\\Paul\\.conda\\envs\\hmm\\Lib\\site-packages\\paramiko\\transport.py:219: CryptographyDeprecationWarning: Blowfish has been deprecated\n",
      "  \"class\": algorithms.Blowfish,\n"
     ]
    }
   ],
   "source": [
    "import os\n",
    "import pickle\n",
    "import paramiko\n",
    "from itertools import product\n",
    "\n",
    "os.chdir('../../../..')"
   ]
  },
  {
   "cell_type": "markdown",
   "metadata": {},
   "source": [
    "# SSH hosts"
   ]
  },
  {
   "cell_type": "code",
   "execution_count": 2,
   "metadata": {},
   "outputs": [],
   "source": [
    "# username and password\n",
    "username = \"paul.guillermit\"\n",
    "password = input(\"Enter the password for the SSH: \")"
   ]
  },
  {
   "cell_type": "code",
   "execution_count": 3,
   "metadata": {},
   "outputs": [
    {
     "data": {
      "text/plain": [
       "'c:\\\\Users\\\\Paul\\\\Documents\\\\X\\\\4A\\\\S1\\\\HMM\\\\poisson_network_models'"
      ]
     },
     "execution_count": 3,
     "metadata": {},
     "output_type": "execute_result"
    }
   ],
   "source": [
    "os.getcwd()"
   ]
  },
  {
   "cell_type": "code",
   "execution_count": 4,
   "metadata": {},
   "outputs": [
    {
     "name": "stdout",
     "output_type": "stream",
     "text": [
      "Hosts available: 169\n"
     ]
    }
   ],
   "source": [
    "# Retrieve the list of hosts\n",
    "file_path = \"src/smc_2324_project/parallelization/ssh_hosts.pkl\"\n",
    "with open(file_path, \"rb\") as file:\n",
    "    ssh_hosts = pickle.load(file)\n",
    "print(\"Hosts available:\",len(ssh_hosts))"
   ]
  },
  {
   "cell_type": "markdown",
   "metadata": {},
   "source": [
    "## Grid search"
   ]
  },
  {
   "cell_type": "code",
   "execution_count": 5,
   "metadata": {},
   "outputs": [],
   "source": [
    "# args\n",
    "tau_1_list = [0.3,0.5,0.7,0.9]\n",
    "tau_2_list = [0.3,0.5,0.7,0.9]\n",
    "args = list(product(tau_1_list, tau_2_list))"
   ]
  },
  {
   "cell_type": "code",
   "execution_count": 6,
   "metadata": {},
   "outputs": [
    {
     "name": "stdout",
     "output_type": "stream",
     "text": [
      "Connecting to host: allemagne.polytechnique.fr\n"
     ]
    }
   ],
   "source": [
    "# progression\n",
    "host = ssh_hosts[0]\n",
    "print(\"Connecting to host:\", host)\n",
    "\n",
    "with paramiko.SSHClient() as client:\n",
    "    client.set_missing_host_key_policy(paramiko.AutoAddPolicy())\n",
    "    client.connect(host, 22, username=username, password=password)\n",
    "\n",
    "    # client.exec_command(\"mkdir hmm/src/data/hyperparams_tuning/\")"
   ]
  },
  {
   "cell_type": "code",
   "execution_count": 7,
   "metadata": {},
   "outputs": [
    {
     "name": "stdout",
     "output_type": "stream",
     "text": [
      "Host: allemagne.polytechnique.fr with s,Ry: (0.3, 0.3)\n",
      "Host: angleterre.polytechnique.fr with s,Ry: (0.3, 0.5)\n",
      "Host: autriche.polytechnique.fr with s,Ry: (0.3, 0.7)\n",
      "Host: belgique.polytechnique.fr with s,Ry: (0.3, 0.9)\n",
      "Host: espagne.polytechnique.fr with s,Ry: (0.5, 0.3)\n",
      "Host: finlande.polytechnique.fr with s,Ry: (0.5, 0.5)\n",
      "Host: france.polytechnique.fr with s,Ry: (0.5, 0.7)\n",
      "Host: groenland.polytechnique.fr with s,Ry: (0.5, 0.9)\n",
      "Host: hollande.polytechnique.fr with s,Ry: (0.7, 0.3)\n",
      "Host: hongrie.polytechnique.fr with s,Ry: (0.7, 0.5)\n",
      "Host: irlande.polytechnique.fr with s,Ry: (0.7, 0.7)\n",
      "Host: islande.polytechnique.fr with s,Ry: (0.7, 0.9)\n",
      "Host: lituanie.polytechnique.fr with s,Ry: (0.9, 0.3)\n",
      "Host: malte.polytechnique.fr with s,Ry: (0.9, 0.5)\n",
      "Host: monaco.polytechnique.fr with s,Ry: (0.9, 0.7)\n",
      "Host: pologne.polytechnique.fr with s,Ry: (0.9, 0.9)\n"
     ]
    }
   ],
   "source": [
    "# parameters\n",
    "host_to_datasets = {}\n",
    "ssh_host_iter = iter(ssh_hosts)\n",
    "n_hosts_per_arg = 1\n",
    "\n",
    "# launch the parallel computing\n",
    "for arg in args:\n",
    "    # init\n",
    "    t1,t2 = arg\n",
    "    \n",
    "    for idx_host in range(n_hosts_per_arg):\n",
    "        # init\n",
    "        host = next(ssh_host_iter)\n",
    "        print(\"Host:\", host, \"with t1,t2:\", arg)\n",
    "        host_to_datasets[host] = arg\n",
    "\n",
    "        # launch\n",
    "        with paramiko.SSHClient() as client:\n",
    "            client.set_missing_host_key_policy(paramiko.AutoAddPolicy())\n",
    "            client.connect(host, 22, username=username, password=password)\n",
    "            command = \"cd hmm/poisson_network_models/src/smc_2324_project/parallelization/ && nohup python gen_fit_save.py {} {} &\".format(t1,t2)\n",
    "            client.exec_command(command)\n",
    "\n",
    "# # save the set-up\n",
    "# save_as_pkl(\"data/host_to_datasets.pkl\",host_to_datasets)"
   ]
  }
 ],
 "metadata": {
  "kernelspec": {
   "display_name": "Python 3 (ipykernel)",
   "language": "python",
   "name": "python3"
  },
  "language_info": {
   "codemirror_mode": {
    "name": "ipython",
    "version": 3
   },
   "file_extension": ".py",
   "mimetype": "text/x-python",
   "name": "python",
   "nbconvert_exporter": "python",
   "pygments_lexer": "ipython3",
   "version": "3.9.13"
  }
 },
 "nbformat": 4,
 "nbformat_minor": 4
}
