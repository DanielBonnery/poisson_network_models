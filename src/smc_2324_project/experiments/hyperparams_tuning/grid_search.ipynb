{
 "cells": [
  {
   "cell_type": "code",
   "execution_count": 1,
   "metadata": {},
   "outputs": [
    {
     "name": "stderr",
     "output_type": "stream",
     "text": [
      "c:\\Users\\Paul\\.conda\\envs\\hmm\\Lib\\site-packages\\paramiko\\transport.py:219: CryptographyDeprecationWarning: Blowfish has been deprecated\n",
      "  \"class\": algorithms.Blowfish,\n"
     ]
    }
   ],
   "source": [
    "import os\n",
    "import pickle\n",
    "import paramiko\n",
    "from itertools import product\n",
    "\n",
    "os.chdir('../../../..')"
   ]
  },
  {
   "cell_type": "markdown",
   "metadata": {},
   "source": [
    "# SSH hosts"
   ]
  },
  {
   "cell_type": "code",
   "execution_count": 2,
   "metadata": {},
   "outputs": [],
   "source": [
    "# username and password\n",
    "username = \"paul.guillermit\"\n",
    "password = input(\"Enter the password for the SSH: \")"
   ]
  },
  {
   "cell_type": "code",
   "execution_count": 3,
   "metadata": {},
   "outputs": [
    {
     "data": {
      "text/plain": [
       "'c:\\\\Users\\\\Paul\\\\Documents\\\\X\\\\4A\\\\S1\\\\HMM\\\\poisson_network_models'"
      ]
     },
     "execution_count": 3,
     "metadata": {},
     "output_type": "execute_result"
    }
   ],
   "source": [
    "os.getcwd()"
   ]
  },
  {
   "cell_type": "code",
   "execution_count": 4,
   "metadata": {},
   "outputs": [
    {
     "name": "stdout",
     "output_type": "stream",
     "text": [
      "Hosts available: 169\n"
     ]
    }
   ],
   "source": [
    "# Retrieve the list of hosts\n",
    "file_path = \"src/smc_2324_project/parallelization/ssh_hosts.pkl\"\n",
    "with open(file_path, \"rb\") as file:\n",
    "    ssh_hosts = pickle.load(file)\n",
    "print(\"Hosts available:\",len(ssh_hosts))"
   ]
  },
  {
   "cell_type": "markdown",
   "metadata": {},
   "source": [
    "## Grid search"
   ]
  },
  {
   "cell_type": "code",
   "execution_count": 5,
   "metadata": {},
   "outputs": [],
   "source": [
    "# args\n",
    "tau_1_list = [0.3,0.5,0.7,0.9]\n",
    "tau_2_list = [0.3,0.5,0.7,0.9]\n",
    "args = list(product(tau_1_list, tau_2_list))"
   ]
  },
  {
   "cell_type": "code",
   "execution_count": 6,
   "metadata": {},
   "outputs": [
    {
     "name": "stdout",
     "output_type": "stream",
     "text": [
      "Connecting to host: allemagne.polytechnique.fr\n"
     ]
    }
   ],
   "source": [
    "# progression\n",
    "host = ssh_hosts[0]\n",
    "print(\"Connecting to host:\", host)\n",
    "\n",
    "with paramiko.SSHClient() as client:\n",
    "    client.set_missing_host_key_policy(paramiko.AutoAddPolicy())\n",
    "    client.connect(host, 22, username=username, password=password)\n",
    "\n",
    "    # client.exec_command(\"mkdir hmm/poisson_network_models/src/data/hyperparams_tuning/\")"
   ]
  },
  {
   "cell_type": "code",
   "execution_count": 7,
   "metadata": {},
   "outputs": [
    {
     "name": "stdout",
     "output_type": "stream",
     "text": [
      "Host: allemagne.polytechnique.fr with t1,t2: (0.3, 0.3)\n",
      "Host: angleterre.polytechnique.fr with t1,t2: (0.3, 0.3)\n",
      "Host: autriche.polytechnique.fr with t1,t2: (0.3, 0.3)\n",
      "Host: belgique.polytechnique.fr with t1,t2: (0.3, 0.3)\n",
      "Host: espagne.polytechnique.fr with t1,t2: (0.3, 0.3)\n",
      "Host: finlande.polytechnique.fr with t1,t2: (0.3, 0.3)\n",
      "Host: france.polytechnique.fr with t1,t2: (0.3, 0.3)\n",
      "Host: groenland.polytechnique.fr with t1,t2: (0.3, 0.3)\n",
      "Host: hollande.polytechnique.fr with t1,t2: (0.3, 0.3)\n",
      "Host: hongrie.polytechnique.fr with t1,t2: (0.3, 0.5)\n",
      "Host: irlande.polytechnique.fr with t1,t2: (0.3, 0.5)\n",
      "Host: islande.polytechnique.fr with t1,t2: (0.3, 0.5)\n",
      "Host: lituanie.polytechnique.fr with t1,t2: (0.3, 0.5)\n",
      "Host: malte.polytechnique.fr with t1,t2: (0.3, 0.5)\n",
      "Host: monaco.polytechnique.fr with t1,t2: (0.3, 0.5)\n",
      "Host: pologne.polytechnique.fr with t1,t2: (0.3, 0.5)\n",
      "Host: portugal.polytechnique.fr with t1,t2: (0.3, 0.5)\n",
      "Host: roumanie.polytechnique.fr with t1,t2: (0.3, 0.5)\n",
      "Host: suede.polytechnique.fr with t1,t2: (0.3, 0.7)\n",
      "Host: albatros.polytechnique.fr with t1,t2: (0.3, 0.7)\n",
      "Host: autruche.polytechnique.fr with t1,t2: (0.3, 0.7)\n",
      "Host: bengali.polytechnique.fr with t1,t2: (0.3, 0.7)\n",
      "Host: coucou.polytechnique.fr with t1,t2: (0.3, 0.7)\n",
      "Host: dindon.polytechnique.fr with t1,t2: (0.3, 0.7)\n",
      "Host: epervier.polytechnique.fr with t1,t2: (0.3, 0.7)\n",
      "Host: faisan.polytechnique.fr with t1,t2: (0.3, 0.7)\n",
      "Host: gelinotte.polytechnique.fr with t1,t2: (0.3, 0.7)\n",
      "Host: hibou.polytechnique.fr with t1,t2: (0.3, 0.9)\n",
      "Host: harpie.polytechnique.fr with t1,t2: (0.3, 0.9)\n",
      "Host: jabiru.polytechnique.fr with t1,t2: (0.3, 0.9)\n",
      "Host: kamiche.polytechnique.fr with t1,t2: (0.3, 0.9)\n",
      "Host: linotte.polytechnique.fr with t1,t2: (0.3, 0.9)\n",
      "Host: loriol.polytechnique.fr with t1,t2: (0.3, 0.9)\n",
      "Host: mouette.polytechnique.fr with t1,t2: (0.3, 0.9)\n",
      "Host: nandou.polytechnique.fr with t1,t2: (0.3, 0.9)\n",
      "Host: ombrette.polytechnique.fr with t1,t2: (0.3, 0.9)\n",
      "Host: perdrix.polytechnique.fr with t1,t2: (0.5, 0.3)\n",
      "Host: quetzal.polytechnique.fr with t1,t2: (0.5, 0.3)\n",
      "Host: quiscale.polytechnique.fr with t1,t2: (0.5, 0.3)\n",
      "Host: rouloul.polytechnique.fr with t1,t2: (0.5, 0.3)\n",
      "Host: sitelle.polytechnique.fr with t1,t2: (0.5, 0.3)\n",
      "Host: traquet.polytechnique.fr with t1,t2: (0.5, 0.3)\n",
      "Host: urabu.polytechnique.fr with t1,t2: (0.5, 0.3)\n",
      "Host: verdier.polytechnique.fr with t1,t2: (0.5, 0.3)\n",
      "Host: aerides.polytechnique.fr with t1,t2: (0.5, 0.3)\n",
      "Host: barlia.polytechnique.fr with t1,t2: (0.5, 0.5)\n",
      "Host: calanthe.polytechnique.fr with t1,t2: (0.5, 0.5)\n",
      "Host: diuris.polytechnique.fr with t1,t2: (0.5, 0.5)\n",
      "Host: encyclia.polytechnique.fr with t1,t2: (0.5, 0.5)\n",
      "Host: epipactis.polytechnique.fr with t1,t2: (0.5, 0.5)\n",
      "Host: gennaria.polytechnique.fr with t1,t2: (0.5, 0.5)\n",
      "Host: habenaria.polytechnique.fr with t1,t2: (0.5, 0.5)\n",
      "Host: isotria.polytechnique.fr with t1,t2: (0.5, 0.5)\n",
      "Host: ipsea.polytechnique.fr with t1,t2: (0.5, 0.5)\n",
      "Host: liparis.polytechnique.fr with t1,t2: (0.5, 0.7)\n",
      "Host: lycaste.polytechnique.fr with t1,t2: (0.5, 0.7)\n",
      "Host: malaxis.polytechnique.fr with t1,t2: (0.5, 0.7)\n",
      "Host: neotinea.polytechnique.fr with t1,t2: (0.5, 0.7)\n",
      "Host: oncidium.polytechnique.fr with t1,t2: (0.5, 0.7)\n",
      "Host: ophrys.polytechnique.fr with t1,t2: (0.5, 0.7)\n",
      "Host: orchis.polytechnique.fr with t1,t2: (0.5, 0.7)\n",
      "Host: pleione.polytechnique.fr with t1,t2: (0.5, 0.7)\n",
      "Host: pogonia.polytechnique.fr with t1,t2: (0.5, 0.7)\n",
      "Host: serapias.polytechnique.fr with t1,t2: (0.5, 0.9)\n",
      "Host: telipogon.polytechnique.fr with t1,t2: (0.5, 0.9)\n",
      "Host: vanda.polytechnique.fr with t1,t2: (0.5, 0.9)\n",
      "Host: vanilla.polytechnique.fr with t1,t2: (0.5, 0.9)\n",
      "Host: xylobium.polytechnique.fr with t1,t2: (0.5, 0.9)\n",
      "Host: zeuxine.polytechnique.fr with t1,t2: (0.5, 0.9)\n",
      "Host: ain.polytechnique.fr with t1,t2: (0.5, 0.9)\n",
      "Host: allier.polytechnique.fr with t1,t2: (0.5, 0.9)\n",
      "Host: ardennes.polytechnique.fr with t1,t2: (0.5, 0.9)\n",
      "Host: carmor.polytechnique.fr with t1,t2: (0.7, 0.3)\n",
      "Host: charente.polytechnique.fr with t1,t2: (0.7, 0.3)\n",
      "Host: cher.polytechnique.fr with t1,t2: (0.7, 0.3)\n",
      "Host: creuse.polytechnique.fr with t1,t2: (0.7, 0.3)\n",
      "Host: dordogne.polytechnique.fr with t1,t2: (0.7, 0.3)\n",
      "Host: doubs.polytechnique.fr with t1,t2: (0.7, 0.3)\n",
      "Host: essonne.polytechnique.fr with t1,t2: (0.7, 0.3)\n",
      "Host: finistere.polytechnique.fr with t1,t2: (0.7, 0.3)\n",
      "Host: gironde.polytechnique.fr with t1,t2: (0.7, 0.3)\n",
      "Host: indre.polytechnique.fr with t1,t2: (0.7, 0.5)\n",
      "Host: jura.polytechnique.fr with t1,t2: (0.7, 0.5)\n",
      "Host: landes.polytechnique.fr with t1,t2: (0.7, 0.5)\n",
      "Host: loire.polytechnique.fr with t1,t2: (0.7, 0.5)\n",
      "Host: manche.polytechnique.fr with t1,t2: (0.7, 0.5)\n",
      "Host: marne.polytechnique.fr with t1,t2: (0.7, 0.5)\n",
      "Host: mayenne.polytechnique.fr with t1,t2: (0.7, 0.5)\n",
      "Host: morbihan.polytechnique.fr with t1,t2: (0.7, 0.5)\n",
      "Host: moselle.polytechnique.fr with t1,t2: (0.7, 0.5)\n",
      "Host: saone.polytechnique.fr with t1,t2: (0.7, 0.7)\n",
      "Host: somme.polytechnique.fr with t1,t2: (0.7, 0.7)\n",
      "Host: vendee.polytechnique.fr with t1,t2: (0.7, 0.7)\n",
      "Host: vosges.polytechnique.fr with t1,t2: (0.7, 0.7)\n",
      "Host: ablette.polytechnique.fr with t1,t2: (0.7, 0.7)\n",
      "Host: anchois.polytechnique.fr with t1,t2: (0.7, 0.7)\n",
      "Host: anguille.polytechnique.fr with t1,t2: (0.7, 0.7)\n",
      "Host: barbeau.polytechnique.fr with t1,t2: (0.7, 0.7)\n",
      "Host: barbue.polytechnique.fr with t1,t2: (0.7, 0.7)\n",
      "Host: baudroie.polytechnique.fr with t1,t2: (0.7, 0.9)\n",
      "Host: brochet.polytechnique.fr with t1,t2: (0.7, 0.9)\n",
      "Host: carrelet.polytechnique.fr with t1,t2: (0.7, 0.9)\n",
      "Host: gardon.polytechnique.fr with t1,t2: (0.7, 0.9)\n",
      "Host: gymnote.polytechnique.fr with t1,t2: (0.7, 0.9)\n",
      "Host: labre.polytechnique.fr with t1,t2: (0.7, 0.9)\n",
      "Host: lieu.polytechnique.fr with t1,t2: (0.7, 0.9)\n",
      "Host: lotte.polytechnique.fr with t1,t2: (0.7, 0.9)\n",
      "Host: mulet.polytechnique.fr with t1,t2: (0.7, 0.9)\n",
      "Host: murene.polytechnique.fr with t1,t2: (0.9, 0.3)\n",
      "Host: piranha.polytechnique.fr with t1,t2: (0.9, 0.3)\n",
      "Host: raie.polytechnique.fr with t1,t2: (0.9, 0.3)\n",
      "Host: requin.polytechnique.fr with t1,t2: (0.9, 0.3)\n",
      "Host: rouget.polytechnique.fr with t1,t2: (0.9, 0.3)\n",
      "Host: roussette.polytechnique.fr with t1,t2: (0.9, 0.3)\n",
      "Host: saumon.polytechnique.fr with t1,t2: (0.9, 0.3)\n",
      "Host: silure.polytechnique.fr with t1,t2: (0.9, 0.3)\n",
      "Host: sole.polytechnique.fr with t1,t2: (0.9, 0.3)\n",
      "Host: thon.polytechnique.fr with t1,t2: (0.9, 0.5)\n",
      "Host: truite.polytechnique.fr with t1,t2: (0.9, 0.5)\n",
      "Host: acromion.polytechnique.fr with t1,t2: (0.9, 0.5)\n",
      "Host: apophyse.polytechnique.fr with t1,t2: (0.9, 0.5)\n",
      "Host: astragale.polytechnique.fr with t1,t2: (0.9, 0.5)\n",
      "Host: atlas.polytechnique.fr with t1,t2: (0.9, 0.5)\n",
      "Host: axis.polytechnique.fr with t1,t2: (0.9, 0.5)\n",
      "Host: coccyx.polytechnique.fr with t1,t2: (0.9, 0.5)\n",
      "Host: cote.polytechnique.fr with t1,t2: (0.9, 0.5)\n",
      "Host: cubitus.polytechnique.fr with t1,t2: (0.9, 0.7)\n",
      "Host: cuboide.polytechnique.fr with t1,t2: (0.9, 0.7)\n",
      "Host: femur.polytechnique.fr with t1,t2: (0.9, 0.7)\n",
      "Host: frontal.polytechnique.fr with t1,t2: (0.9, 0.7)\n",
      "Host: humerus.polytechnique.fr with t1,t2: (0.9, 0.7)\n",
      "Host: malleole.polytechnique.fr with t1,t2: (0.9, 0.7)\n",
      "Host: metacarpe.polytechnique.fr with t1,t2: (0.9, 0.7)\n",
      "Host: parietal.polytechnique.fr with t1,t2: (0.9, 0.7)\n",
      "Host: perone.polytechnique.fr with t1,t2: (0.9, 0.7)\n",
      "Host: phalange.polytechnique.fr with t1,t2: (0.9, 0.9)\n",
      "Host: radius.polytechnique.fr with t1,t2: (0.9, 0.9)\n",
      "Host: rotule.polytechnique.fr with t1,t2: (0.9, 0.9)\n",
      "Host: sacrum.polytechnique.fr with t1,t2: (0.9, 0.9)\n",
      "Host: sternum.polytechnique.fr with t1,t2: (0.9, 0.9)\n",
      "Host: tarse.polytechnique.fr with t1,t2: (0.9, 0.9)\n",
      "Host: temporal.polytechnique.fr with t1,t2: (0.9, 0.9)\n",
      "Host: tibia.polytechnique.fr with t1,t2: (0.9, 0.9)\n",
      "Host: xiphoide.polytechnique.fr with t1,t2: (0.9, 0.9)\n"
     ]
    }
   ],
   "source": [
    "# parameters\n",
    "host_to_datasets = {}\n",
    "ssh_host_iter = iter(ssh_hosts)\n",
    "n_hosts_per_arg = 9\n",
    "\n",
    "# launch the parallel computing\n",
    "for arg in args:\n",
    "    # init\n",
    "    t1,t2 = arg\n",
    "    \n",
    "    for idx_host in range(n_hosts_per_arg):\n",
    "        # init\n",
    "        host = next(ssh_host_iter)\n",
    "        print(\"Host:\", host, \"with t1,t2:\", arg)\n",
    "        host_to_datasets[host] = arg\n",
    "\n",
    "        # launch\n",
    "        with paramiko.SSHClient() as client:\n",
    "            client.set_missing_host_key_policy(paramiko.AutoAddPolicy())\n",
    "            client.connect(host, 22, username=username, password=password)\n",
    "            command = \"cd hmm/poisson_network_models\"\n",
    "            command += \"&& export PYTHONPATH=$PYTHONPATH:$(pwd)\"\n",
    "            command += \"&& nohup python src/smc_2324_project/parallelization/hyperparams_tuning.py {} {} &\".format(t1,t2)\n",
    "            client.exec_command(command)\n",
    "\n",
    "# # save the set-up\n",
    "# save_as_pkl(\"data/host_to_datasets.pkl\",host_to_datasets)"
   ]
  }
 ],
 "metadata": {
  "kernelspec": {
   "display_name": "hmm",
   "language": "python",
   "name": "python3"
  },
  "language_info": {
   "codemirror_mode": {
    "name": "ipython",
    "version": 3
   },
   "file_extension": ".py",
   "mimetype": "text/x-python",
   "name": "python",
   "nbconvert_exporter": "python",
   "pygments_lexer": "ipython3",
   "version": "3.11.5"
  }
 },
 "nbformat": 4,
 "nbformat_minor": 2
}
