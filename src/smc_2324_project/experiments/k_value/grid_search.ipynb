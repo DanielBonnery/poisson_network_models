{
 "cells": [
  {
   "cell_type": "code",
   "execution_count": 1,
   "metadata": {},
   "outputs": [
    {
     "name": "stderr",
     "output_type": "stream",
     "text": [
      "C:\\Users\\guspo\\anaconda3\\lib\\site-packages\\paramiko\\transport.py:219: CryptographyDeprecationWarning: Blowfish has been deprecated\n",
      "  \"class\": algorithms.Blowfish,\n"
     ]
    },
    {
     "data": {
      "text/plain": [
       "'C:\\\\Users\\\\guspo\\\\Augustin\\\\X\\\\4A\\\\Cours\\\\HMC\\\\poisson_network_models\\\\src\\\\smc_2324_project\\\\experiments\\\\k value'"
      ]
     },
     "execution_count": 1,
     "metadata": {},
     "output_type": "execute_result"
    }
   ],
   "source": [
    "import os\n",
    "import pickle\n",
    "import paramiko\n",
    "from itertools import product\n",
    "\n",
    "#os.chdir('../../../..')\n",
    "#os.chdir('../../../..')\n",
    "os.chdir('.')\n",
    "os.getcwd()"
   ]
  },
  {
   "cell_type": "markdown",
   "metadata": {},
   "source": [
    "# SSH hosts"
   ]
  },
  {
   "cell_type": "code",
   "execution_count": 2,
   "metadata": {},
   "outputs": [
    {
     "name": "stdin",
     "output_type": "stream",
     "text": [
      "Enter the password for the SSH:  gustusP13\n"
     ]
    }
   ],
   "source": [
    "# username and password\n",
    "username = \"augustin.poissonnier\"\n",
    "password = input(\"Enter the password for the SSH: \")"
   ]
  },
  {
   "cell_type": "code",
   "execution_count": 3,
   "metadata": {},
   "outputs": [
    {
     "data": {
      "text/plain": [
       "'C:\\\\Users\\\\guspo\\\\Augustin\\\\X\\\\4A\\\\Cours\\\\HMC\\\\poisson_network_models\\\\src\\\\smc_2324_project\\\\experiments\\\\k value'"
      ]
     },
     "execution_count": 3,
     "metadata": {},
     "output_type": "execute_result"
    }
   ],
   "source": [
    "#os.chdir('../../../..')\n",
    "os.chdir('.')\n",
    "os.getcwd()"
   ]
  },
  {
   "cell_type": "code",
   "execution_count": 5,
   "metadata": {},
   "outputs": [
    {
     "name": "stdout",
     "output_type": "stream",
     "text": [
      "Hosts available: 169\n"
     ]
    }
   ],
   "source": [
    "# Retrieve the list of hosts\n",
    "file_path = \"ssh_hosts.pkl\"\n",
    "with open(file_path, \"rb\") as file:\n",
    "    ssh_hosts = pickle.load(file)\n",
    "print(\"Hosts available:\",len(ssh_hosts))"
   ]
  },
  {
   "cell_type": "markdown",
   "metadata": {},
   "source": [
    "## Grid search"
   ]
  },
  {
   "cell_type": "code",
   "execution_count": 1,
   "metadata": {},
   "outputs": [
    {
     "ename": "NameError",
     "evalue": "name 'product' is not defined",
     "output_type": "error",
     "traceback": [
      "\u001b[1;31m---------------------------------------------------------------------------\u001b[0m",
      "\u001b[1;31mNameError\u001b[0m                                 Traceback (most recent call last)",
      "\u001b[1;32m~\\AppData\\Local\\Temp\\ipykernel_3368\\2279363350.py\u001b[0m in \u001b[0;36m<module>\u001b[1;34m\u001b[0m\n\u001b[0;32m      2\u001b[0m \u001b[0mtau_1_list\u001b[0m \u001b[1;33m=\u001b[0m \u001b[1;33m[\u001b[0m\u001b[1;36m2\u001b[0m\u001b[1;33m,\u001b[0m\u001b[1;36m3\u001b[0m\u001b[1;33m,\u001b[0m\u001b[1;36m4\u001b[0m\u001b[1;33m,\u001b[0m\u001b[1;36m5\u001b[0m\u001b[1;33m]\u001b[0m\u001b[1;33m\u001b[0m\u001b[1;33m\u001b[0m\u001b[0m\n\u001b[0;32m      3\u001b[0m \u001b[0mtau_2_list\u001b[0m \u001b[1;33m=\u001b[0m \u001b[1;33m[\u001b[0m\u001b[1;36m1\u001b[0m\u001b[1;33m,\u001b[0m\u001b[1;36m2\u001b[0m\u001b[1;33m,\u001b[0m\u001b[1;36m3\u001b[0m\u001b[1;33m,\u001b[0m\u001b[1;36m4\u001b[0m\u001b[1;33m,\u001b[0m\u001b[1;36m5\u001b[0m\u001b[1;33m]\u001b[0m\u001b[1;33m\u001b[0m\u001b[1;33m\u001b[0m\u001b[0m\n\u001b[1;32m----> 4\u001b[1;33m \u001b[0margs\u001b[0m \u001b[1;33m=\u001b[0m \u001b[0mlist\u001b[0m\u001b[1;33m(\u001b[0m\u001b[0mproduct\u001b[0m\u001b[1;33m(\u001b[0m\u001b[0mtau_1_list\u001b[0m\u001b[1;33m,\u001b[0m \u001b[0mtau_2_list\u001b[0m\u001b[1;33m)\u001b[0m\u001b[1;33m)\u001b[0m\u001b[1;33m\u001b[0m\u001b[1;33m\u001b[0m\u001b[0m\n\u001b[0m",
      "\u001b[1;31mNameError\u001b[0m: name 'product' is not defined"
     ]
    }
   ],
   "source": [
    "# args\n",
    "tau_1_list = [2,3,4,5]\n",
    "tau_2_list = [i for i in range(1,11)]\n",
    "args = list(product(tau_1_list, tau_2_list))"
   ]
  },
  {
   "cell_type": "code",
   "execution_count": 7,
   "metadata": {},
   "outputs": [
    {
     "name": "stdout",
     "output_type": "stream",
     "text": [
      "Connecting to host: allemagne.polytechnique.fr\n"
     ]
    }
   ],
   "source": [
    "# progression\n",
    "host = ssh_hosts[0]\n",
    "print(\"Connecting to host:\", host)\n",
    "\n",
    "with paramiko.SSHClient() as client:\n",
    "    client.set_missing_host_key_policy(paramiko.AutoAddPolicy())\n",
    "    client.connect(host, 22, username=username, password=password)\n",
    "\n",
    "    # client.exec_command(\"mkdir hmm/src/data/hyperparams_tuning/\")"
   ]
  },
  {
   "cell_type": "code",
   "execution_count": 9,
   "metadata": {},
   "outputs": [
    {
     "name": "stdout",
     "output_type": "stream",
     "text": [
      "Host: allemagne.polytechnique.fr with t1,t2: (1, 1)\n",
      "ok\n"
     ]
    }
   ],
   "source": [
    "# parameters\n",
    "host_to_datasets = {}\n",
    "ssh_host_iter = iter(ssh_hosts)\n",
    "n_hosts_per_arg = 1\n",
    "\n",
    "# launch the parallel computing\n",
    "for arg in args:\n",
    "    # init\n",
    "    t1,t2 = arg\n",
    "    \n",
    "    for idx_host in range(n_hosts_per_arg):\n",
    "        # init\n",
    "        host = next(ssh_host_iter)\n",
    "        print(\"Host:\", host, \"with t1,t2:\", arg)\n",
    "        host_to_datasets[host] = arg\n",
    "\n",
    "        # launch\n",
    "        with paramiko.SSHClient() as client:\n",
    "            client.set_missing_host_key_policy(paramiko.AutoAddPolicy())\n",
    "            client.connect(host, 22, username=username, password=password)\n",
    "            command = \"cd poisson_network_models/src/smc_2324_project/experiments/k_value && nohup python gen_k_save.py {} {} &\".format(t1,t2)\n",
    "            client.exec_command(command)\n",
    "            \n",
    "\n",
    "\n",
    "# # save the set-up\n",
    "# save_as_pkl(\"data/host_to_datasets.pkl\",host_to_datasets)\n"
   ]
  },
  {
   "cell_type": "code",
   "execution_count": null,
   "metadata": {},
   "outputs": [],
   "source": []
  }
 ],
 "metadata": {
  "kernelspec": {
   "display_name": "Python 3 (ipykernel)",
   "language": "python",
   "name": "python3"
  },
  "language_info": {
   "codemirror_mode": {
    "name": "ipython",
    "version": 3
   },
   "file_extension": ".py",
   "mimetype": "text/x-python",
   "name": "python",
   "nbconvert_exporter": "python",
   "pygments_lexer": "ipython3",
   "version": "3.9.13"
  }
 },
 "nbformat": 4,
 "nbformat_minor": 4
}
