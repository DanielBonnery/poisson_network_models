{
 "cells": [
  {
   "cell_type": "code",
   "execution_count": 55,
   "metadata": {},
   "outputs": [
    {
     "data": {
      "text/plain": [
       "'C:\\\\Users\\\\guspo\\\\Augustin\\\\X\\\\4A\\\\Cours\\\\HMC\\\\poisson_network_models\\\\src\\\\smc_2324_project\\\\experiments\\\\k_value'"
      ]
     },
     "execution_count": 55,
     "metadata": {},
     "output_type": "execute_result"
    }
   ],
   "source": [
    "import os\n",
    "import pickle\n",
    "import paramiko\n",
    "from itertools import product\n",
    "import time\n",
    "\n",
    "#os.chdir('../../../..')\n",
    "#os.chdir('../../../..')\n",
    "os.chdir('.')\n",
    "os.getcwd()"
   ]
  },
  {
   "cell_type": "markdown",
   "metadata": {},
   "source": [
    "# SSH hosts"
   ]
  },
  {
   "cell_type": "code",
   "execution_count": 23,
   "metadata": {},
   "outputs": [
    {
     "name": "stdin",
     "output_type": "stream",
     "text": [
      "Enter the password for the SSH:  gustusP13\n"
     ]
    }
   ],
   "source": [
    "# username and password\n",
    "username = \"augustin.poissonnier\"\n",
    "password = input(\"Enter the password for the SSH: \")"
   ]
  },
  {
   "cell_type": "code",
   "execution_count": 3,
   "metadata": {},
   "outputs": [
    {
     "data": {
      "text/plain": [
       "'C:\\\\Users\\\\guspo\\\\Augustin\\\\X\\\\4A\\\\Cours\\\\HMC\\\\poisson_network_models\\\\src\\\\smc_2324_project\\\\experiments\\\\k_value'"
      ]
     },
     "execution_count": 3,
     "metadata": {},
     "output_type": "execute_result"
    }
   ],
   "source": [
    "#os.chdir('../../../..')\n",
    "os.chdir('.')\n",
    "os.getcwd()"
   ]
  },
  {
   "cell_type": "code",
   "execution_count": 4,
   "metadata": {},
   "outputs": [
    {
     "name": "stdout",
     "output_type": "stream",
     "text": [
      "Hosts available: 169\n"
     ]
    }
   ],
   "source": [
    "# Retrieve the list of hosts\n",
    "file_path = \"ssh_hosts.pkl\"\n",
    "with open(file_path, \"rb\") as file:\n",
    "    ssh_hosts = pickle.load(file)\n",
    "print(\"Hosts available:\",len(ssh_hosts))"
   ]
  },
  {
   "cell_type": "markdown",
   "metadata": {},
   "source": [
    "## Grid search"
   ]
  },
  {
   "cell_type": "code",
   "execution_count": 57,
   "metadata": {},
   "outputs": [],
   "source": [
    "# args\n",
    "tau_1_list = [11,21]\n",
    "tau_2_list = [i for i in range(1,3)]\n",
    "args = list(product(tau_1_list, tau_2_list))"
   ]
  },
  {
   "cell_type": "code",
   "execution_count": 58,
   "metadata": {},
   "outputs": [
    {
     "name": "stdout",
     "output_type": "stream",
     "text": [
      "Connecting to host: allemagne.polytechnique.fr\n"
     ]
    }
   ],
   "source": [
    "# progression\n",
    "host = ssh_hosts[0]\n",
    "print(\"Connecting to host:\", host)\n",
    "\n",
    "with paramiko.SSHClient() as client:\n",
    "    client.set_missing_host_key_policy(paramiko.AutoAddPolicy())\n",
    "    client.connect(host, 22, username=username, password=password)\n",
    "\n",
    "    # client.exec_command(\"mkdir hmm/src/data/hyperparams_tuning/\")"
   ]
  },
  {
   "cell_type": "code",
   "execution_count": 59,
   "metadata": {},
   "outputs": [
    {
     "name": "stdout",
     "output_type": "stream",
     "text": [
      "Host: allemagne.polytechnique.fr with t1,t2: (11, 1)\n",
      "0\n",
      "1\n",
      "Host: angleterre.polytechnique.fr with t1,t2: (11, 2)\n",
      "0\n",
      "1\n",
      "Host: autriche.polytechnique.fr with t1,t2: (21, 1)\n",
      "0\n",
      "1\n",
      "Host: belgique.polytechnique.fr with t1,t2: (21, 2)\n",
      "0\n",
      "1\n"
     ]
    }
   ],
   "source": [
    "# parameters\n",
    "host_to_datasets = {}\n",
    "ssh_host_iter = iter(ssh_hosts)\n",
    "n_hosts_per_arg = 1\n",
    "\n",
    "# launch the parallel computing\n",
    "for arg in args:\n",
    "    # init\n",
    "    t1,t2 = arg\n",
    "    \n",
    "    for idx_host in range(n_hosts_per_arg):\n",
    "        # init\n",
    "        host = next(ssh_host_iter)\n",
    "        print(\"Host:\", host, \"with t1,t2:\", arg)\n",
    "        host_to_datasets[host] = arg\n",
    "\n",
    "        # launch\n",
    "        with paramiko.SSHClient() as client:\n",
    "            client.set_missing_host_key_policy(paramiko.AutoAddPolicy())\n",
    "            client.connect(host, 22, username=username, password=password)\n",
    "            command = \"cd ./poisson_network_models/src/smc_2324_project/experiments/k_value/ && nohup python gen_M_save.py {} {} &\".format(t1, t2)\n",
    "            client.exec_command(command)\n",
    "            time.sleep(1)\n",
    "            \n",
    "\n",
    "\n",
    "# # save the set-up\n",
    "# save_as_pkl(\"data/host_to_datasets.pkl\",host_to_datasets)\n"
   ]
  },
  {
   "cell_type": "code",
   "execution_count": 38,
   "metadata": {},
   "outputs": [
    {
     "data": {
      "text/plain": [
       "'cd ./poisson_network_models/src/smc_2324_project/experiments/k_value && nohup python gen_M_save.py 22 1 &'"
      ]
     },
     "execution_count": 38,
     "metadata": {},
     "output_type": "execute_result"
    }
   ],
   "source": [
    "command = \"cd ./poisson_network_models/src/smc_2324_project/experiments/k_value && nohup python gen_M_save.py {} {} &\".format(t1,t2)\n",
    "command\n"
   ]
  },
  {
   "cell_type": "code",
   "execution_count": null,
   "metadata": {},
   "outputs": [],
   "source": []
  }
 ],
 "metadata": {
  "kernelspec": {
   "display_name": "Python 3 (ipykernel)",
   "language": "python",
   "name": "python3"
  },
  "language_info": {
   "codemirror_mode": {
    "name": "ipython",
    "version": 3
   },
   "file_extension": ".py",
   "mimetype": "text/x-python",
   "name": "python",
   "nbconvert_exporter": "python",
   "pygments_lexer": "ipython3",
   "version": "3.9.13"
  }
 },
 "nbformat": 4,
 "nbformat_minor": 4
}
