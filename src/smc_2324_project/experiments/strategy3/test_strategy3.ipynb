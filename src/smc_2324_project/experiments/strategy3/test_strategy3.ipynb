{
 "cells": [
  {
   "cell_type": "markdown",
   "metadata": {},
   "source": [
    "Read `about_the_implementation.md` for more info."
   ]
  },
  {
   "cell_type": "markdown",
   "metadata": {},
   "source": [
    "# Prior"
   ]
  },
  {
   "cell_type": "code",
   "execution_count": 1,
   "metadata": {},
   "outputs": [],
   "source": [
    "import numpy as np\n",
    "from base_dist import *"
   ]
  },
  {
   "cell_type": "code",
   "execution_count": 2,
   "metadata": {},
   "outputs": [],
   "source": [
    "# hyperparameters\n",
    "n, k, p = 40, 3, 4\n",
    "gamma_0 = np.array([0.6,0.6,0.6,1, 0, 3, 1.1, 2.2, 0.1, -0.3])\n",
    "V_0 = np.eye(len(gamma_0))\n",
    "e_0 = 3 * np.ones(k)\n",
    "\n",
    "# prior\n",
    "theta_prior = define_theta_prior(gamma_0, V_0, e_0)\n",
    "prior = define_prior(theta_prior, n)\n",
    "\n",
    "# test\n",
    "particle = prior.rvs()"
   ]
  },
  {
   "cell_type": "markdown",
   "metadata": {},
   "source": [
    "# Dataset"
   ]
  },
  {
   "cell_type": "code",
   "execution_count": 3,
   "metadata": {},
   "outputs": [],
   "source": [
    "import os\n",
    "os.chdir('../generate_from_model/')\n",
    "from generate_dataset import *\n",
    "os.chdir('../strategy3/')"
   ]
  },
  {
   "cell_type": "code",
   "execution_count": 4,
   "metadata": {},
   "outputs": [],
   "source": [
    "# generate dataset\n",
    "alpha, beta, nu = generate_network_params(k, gamma_0, V_0, e_0)\n",
    "X = generate_covariates(n, p)\n",
    "sample_from_network((alpha, beta, nu), X)\n",
    "theta = (alpha,beta,nu)\n",
    "Y = sample_from_network(theta,X, return_Z=False)"
   ]
  },
  {
   "cell_type": "markdown",
   "metadata": {},
   "source": [
    "# Logtarget"
   ]
  },
  {
   "cell_type": "code",
   "execution_count": 5,
   "metadata": {},
   "outputs": [],
   "source": [
    "# to be moved in a script\n",
    "\n",
    "from scipy.stats import poisson\n",
    "\n",
    "def compute_llh_marginal(particle, X, Y, k):\n",
    "    \"\"\"Vectorized.\"\"\"\n",
    "    # extract\n",
    "    Z_categorical, theta = particle[\"Z\"], particle[\"theta\"]\n",
    "    gamma, nu = theta[\"gamma\"], theta[\"nu\"]\n",
    "    alpha,beta = gamma_to_alpha_beta(gamma, k)\n",
    "    n = len(X)\n",
    "    p = X.shape[1]\n",
    "    Z = np.zeros((n, k))\n",
    "    Z[np.arange(n), Z_categorical] = 1\n",
    "\n",
    "    # compute\n",
    "    logpz = np.sum(np.log(Z.dot(nu)))\n",
    "    assert not np.any(np.isinf(logpz)) and not np.any(np.isnan(logpz))\n",
    "    lambda_poisson = np.exp(Z @ alpha @ Z.T + X.dot(beta))\n",
    "    indices = np.triu_indices(n, k=1)\n",
    "    logpy = np.sum(poisson.logpmf(Y[indices], lambda_poisson[indices]))\n",
    "    return logpz + logpy\n",
    "\n",
    "def define_llh_target(prior, X, Y, k):\n",
    "\n",
    "    def compute_llh_target(particle):\n",
    "        \"\"\"Y and X to be defined globally.\"\"\"\n",
    "        return compute_llh_marginal(particle, X, Y, k) + prior.logpdf(particle)\n",
    "    \n",
    "    return compute_llh_target"
   ]
  },
  {
   "cell_type": "code",
   "execution_count": 6,
   "metadata": {},
   "outputs": [],
   "source": [
    "compute_llh_target = define_llh_target(prior, X, Y, k)"
   ]
  },
  {
   "cell_type": "code",
   "execution_count": 7,
   "metadata": {},
   "outputs": [],
   "source": [
    "from particles.smc_samplers import TemperingBridge\n",
    "\n",
    "class ToyBridge(TemperingBridge):\n",
    "    def logtarget(self, theta):\n",
    "        return compute_llh_target(theta)"
   ]
  },
  {
   "cell_type": "code",
   "execution_count": 8,
   "metadata": {},
   "outputs": [],
   "source": [
    "toy_bridge = ToyBridge(base_dist=prior)"
   ]
  },
  {
   "cell_type": "code",
   "execution_count": 9,
   "metadata": {},
   "outputs": [
    {
     "data": {
      "text/plain": [
       "array([[0.49107849, 0.4309189 , 0.07800261]])"
      ]
     },
     "execution_count": 9,
     "metadata": {},
     "output_type": "execute_result"
    }
   ],
   "source": [
    "prior.rvs()[\"theta\"][\"nu\"]"
   ]
  },
  {
   "cell_type": "markdown",
   "metadata": {},
   "source": [
    "# Move"
   ]
  },
  {
   "cell_type": "code",
   "execution_count": 10,
   "metadata": {},
   "outputs": [],
   "source": [
    "# no base class for a MCMC step\n",
    "\n",
    "class MCMCSequence:\n",
    "    \"\"\"Base class for a (fixed length or adaptive) sequence of MCMC steps.\"\"\"\n",
    "\n",
    "    def __init__(self, mcmc=None, len_chain=10):\n",
    "        self.mcmc = ArrayRandomWalk() if mcmc is None else mcmc\n",
    "        self.nsteps = len_chain - 1\n",
    "\n",
    "    def calibrate(self, W, x):\n",
    "        self.mcmc.calibrate(W, x)\n",
    "\n",
    "    def __call__(self, x, target):\n",
    "        for _ in range(self.nsteps):\n",
    "            x = self.mcmc(x, target)\n",
    "        return x"
   ]
  },
  {
   "cell_type": "code",
   "execution_count": 11,
   "metadata": {},
   "outputs": [],
   "source": [
    "from scipy.stats import multivariate_normal\n",
    "\n",
    "def sample_nu(particles, e_0, e_tilde, rho, k): \n",
    "    \"\"\"Sample nu.\n",
    "    All particles at once.\"\"\"\n",
    "    Z_categorical = particles[\"Z\"]\n",
    "    assert Z_categorical.ndim == 2\n",
    "    N,n = Z_categorical.shape\n",
    "    Z = np.zeros((N, n, k))\n",
    "    Z[np.arange(N),np.arange(n), Z_categorical] = 1\n",
    "    e = rho*(e_0+np.sum(Z, axis=1))+(1-rho)*e_tilde\n",
    "    print(\"e: \",e.shape)\n",
    "    nu = dirichlet.rvs(e,size=N) # accept vectorized e ?\n",
    "    return nu\n",
    "\n",
    "def compute_gamma_var(particles):\n",
    "    \"\"\"Compute the variance of gamma.\n",
    "    All particles at once.\"\"\"\n",
    "    gamma = particles[\"theta\"][\"gamma\"]\n",
    "    empirical_gamma_var = gamma.T@gamma/len(gamma)\n",
    "    return empirical_gamma_var\n",
    "\n",
    "def sample_gamma(particles, gamma_var, target):\n",
    "    \"\"\"Sample gamma.\n",
    "    Particle by particle proposal.\n",
    "    To be vectorized or compiled.\"\"\"\n",
    "    gamma = particles[\"theta\"][\"gamma\"]\n",
    "    N, len_gamma = gamma.shape\n",
    "    gamma_step = np.random.multivariate_normal.rvs(mean=np.zeros(len_gamma), cov=gamma_var, size=N)\n",
    "\n",
    "    # particle by particle\n",
    "    for i in range(N):\n",
    "        # gamma proposal\n",
    "        gamma_proposal = gamma[i] + gamma_step[i]\n",
    "        particle_proposal = particles[i].copy()\n",
    "        particle_proposal[\"theta\"][\"gamma\"] = gamma_proposal\n",
    "\n",
    "        # accept/reject\n",
    "        logratio = target.logpdf(particle_proposal) - target.logpdf(particles[i])\n",
    "        ratio = np.exp(logratio)\n",
    "        if np.random.rand() < ratio:\n",
    "            particles[i] = particle_proposal\n",
    "    \n",
    "    return particles\n",
    "\n",
    "def sample_Z(particles, target, k):\n",
    "    \"\"\"Sample Z.\n",
    "    Particle by particle proposal.\n",
    "    To be vectorized or compiled.\"\"\"\n",
    "    N = len(particles)\n",
    "\n",
    "    # particle by particle\n",
    "    for i in range(N):\n",
    "        # compute Z probabilities\n",
    "        Z_logprobas = np.zeros(k)\n",
    "        for idx in range(k):\n",
    "            particle_proposal = particles[i].copy()\n",
    "            particle_proposal[\"Z\"] = idx\n",
    "            Z_probas[idx] = target.logpdf(particle_proposal) - target.logpdf(particles[i])\n",
    "        Z_probas = np.exp(Z_logprobas-np.max(Z_logprobas))\n",
    "        Z_probas /= np.sum(Z_probas)\n",
    "        # sample Z\n",
    "        particles[\"Z\"][i] = np.random.choice(np.arange(k), p=Z_probas)\n",
    "    \n",
    "    return particles\n",
    "\n",
    "class CustomGibbs():\n",
    "    \"\"\"A custom Gibbs step of the kernel.\n",
    "    Beware, in that case, x is a ThetaParticles object.\"\"\"\n",
    "\n",
    "    def __init__(self, k, e_0, e_tilde):\n",
    "        self.k = k\n",
    "        self.e_0 = e_0\n",
    "        self.e_tilde = e_tilde\n",
    "\n",
    "    def calibrate(self, W, x):\n",
    "        self.rho = x.shared[\"exponents\"][-1]\n",
    "        self.gamma_var = compute_gamma_var(x)\n",
    "        raise NotImplementedError\n",
    "\n",
    "    def __call__(self, x, target):\n",
    "        x[\"theta\"][\"nu\"] = sample_nu(x, self.e_0, self.e_tilde, self.rho, self.k)\n",
    "        x[\"theta\"][\"gamma\"] = sample_gamma(x, self.gamma_var, target)\n",
    "        x[\"Z\"] = sample_Z(x, target, self.k)\n",
    "        raise x"
   ]
  },
  {
   "cell_type": "code",
   "execution_count": 12,
   "metadata": {},
   "outputs": [],
   "source": [
    "move = MCMCSequence(mcmc=CustomGibbs(k, e_0, e_0), len_chain=5)"
   ]
  },
  {
   "cell_type": "markdown",
   "metadata": {},
   "source": [
    "# AdaptiveTempering"
   ]
  },
  {
   "cell_type": "code",
   "execution_count": 13,
   "metadata": {},
   "outputs": [
    {
     "ename": "TypeError",
     "evalue": "Cannot cast array data from dtype('float64') to dtype('int64') according to the rule 'safe'",
     "output_type": "error",
     "traceback": [
      "\u001b[1;31m---------------------------------------------------------------------------\u001b[0m",
      "\u001b[1;31mTypeError\u001b[0m                                 Traceback (most recent call last)",
      "File \u001b[1;32mc:\\Users\\Paul\\.conda\\envs\\hmm\\Lib\\site-packages\\numpy\\core\\fromnumeric.py:59\u001b[0m, in \u001b[0;36m_wrapfunc\u001b[1;34m(obj, method, *args, **kwds)\u001b[0m\n\u001b[0;32m     58\u001b[0m \u001b[38;5;28;01mtry\u001b[39;00m:\n\u001b[1;32m---> 59\u001b[0m     \u001b[38;5;28;01mreturn\u001b[39;00m \u001b[43mbound\u001b[49m\u001b[43m(\u001b[49m\u001b[38;5;241;43m*\u001b[39;49m\u001b[43margs\u001b[49m\u001b[43m,\u001b[49m\u001b[43m \u001b[49m\u001b[38;5;241;43m*\u001b[39;49m\u001b[38;5;241;43m*\u001b[39;49m\u001b[43mkwds\u001b[49m\u001b[43m)\u001b[49m\n\u001b[0;32m     60\u001b[0m \u001b[38;5;28;01mexcept\u001b[39;00m \u001b[38;5;167;01mTypeError\u001b[39;00m:\n\u001b[0;32m     61\u001b[0m     \u001b[38;5;66;03m# A TypeError occurs if the object does have such a method in its\u001b[39;00m\n\u001b[0;32m     62\u001b[0m     \u001b[38;5;66;03m# class, but its signature is not identical to that of NumPy's. This\u001b[39;00m\n\u001b[1;32m   (...)\u001b[0m\n\u001b[0;32m     66\u001b[0m     \u001b[38;5;66;03m# Call _wrapit from within the except clause to ensure a potential\u001b[39;00m\n\u001b[0;32m     67\u001b[0m     \u001b[38;5;66;03m# exception has a traceback chain.\u001b[39;00m\n",
      "\u001b[1;31mTypeError\u001b[0m: Cannot cast array data from dtype('float64') to dtype('int64') according to the rule 'safe'",
      "\nDuring handling of the above exception, another exception occurred:\n",
      "\u001b[1;31mTypeError\u001b[0m                                 Traceback (most recent call last)",
      "Cell \u001b[1;32mIn[13], line 7\u001b[0m\n\u001b[0;32m      5\u001b[0m fk_tpr \u001b[38;5;241m=\u001b[39m AdaptiveTempering(model\u001b[38;5;241m=\u001b[39mtoy_bridge, len_chain\u001b[38;5;241m=\u001b[39m\u001b[38;5;241m1\u001b[39m, move\u001b[38;5;241m=\u001b[39mmove)\n\u001b[0;32m      6\u001b[0m alg \u001b[38;5;241m=\u001b[39m particles\u001b[38;5;241m.\u001b[39mSMC(fk\u001b[38;5;241m=\u001b[39mfk_tpr, N\u001b[38;5;241m=\u001b[39m\u001b[38;5;241m200\u001b[39m)\n\u001b[1;32m----> 7\u001b[0m \u001b[43malg\u001b[49m\u001b[38;5;241;43m.\u001b[39;49m\u001b[43mrun\u001b[49m\u001b[43m(\u001b[49m\u001b[43m)\u001b[49m\n",
      "File \u001b[1;32mc:\\Users\\Paul\\.conda\\envs\\hmm\\Lib\\site-packages\\particles\\utils.py:85\u001b[0m, in \u001b[0;36mtimer.<locals>.timed_method\u001b[1;34m(self, **kwargs)\u001b[0m\n\u001b[0;32m     82\u001b[0m \u001b[38;5;129m@functools\u001b[39m\u001b[38;5;241m.\u001b[39mwraps(method)\n\u001b[0;32m     83\u001b[0m \u001b[38;5;28;01mdef\u001b[39;00m \u001b[38;5;21mtimed_method\u001b[39m(\u001b[38;5;28mself\u001b[39m, \u001b[38;5;241m*\u001b[39m\u001b[38;5;241m*\u001b[39mkwargs):\n\u001b[0;32m     84\u001b[0m     starting_time \u001b[38;5;241m=\u001b[39m time\u001b[38;5;241m.\u001b[39mperf_counter()\n\u001b[1;32m---> 85\u001b[0m     out \u001b[38;5;241m=\u001b[39m \u001b[43mmethod\u001b[49m\u001b[43m(\u001b[49m\u001b[38;5;28;43mself\u001b[39;49m\u001b[43m,\u001b[49m\u001b[43m \u001b[49m\u001b[38;5;241;43m*\u001b[39;49m\u001b[38;5;241;43m*\u001b[39;49m\u001b[43mkwargs\u001b[49m\u001b[43m)\u001b[49m\n\u001b[0;32m     86\u001b[0m     \u001b[38;5;28mself\u001b[39m\u001b[38;5;241m.\u001b[39mcpu_time \u001b[38;5;241m=\u001b[39m time\u001b[38;5;241m.\u001b[39mperf_counter() \u001b[38;5;241m-\u001b[39m starting_time\n\u001b[0;32m     87\u001b[0m     \u001b[38;5;28;01mreturn\u001b[39;00m out\n",
      "File \u001b[1;32mc:\\Users\\Paul\\.conda\\envs\\hmm\\Lib\\site-packages\\particles\\core.py:408\u001b[0m, in \u001b[0;36mSMC.run\u001b[1;34m(self)\u001b[0m\n\u001b[0;32m    391\u001b[0m \u001b[38;5;129m@utils\u001b[39m\u001b[38;5;241m.\u001b[39mtimer\n\u001b[0;32m    392\u001b[0m \u001b[38;5;28;01mdef\u001b[39;00m \u001b[38;5;21mrun\u001b[39m(\u001b[38;5;28mself\u001b[39m):\n\u001b[0;32m    393\u001b[0m \u001b[38;5;250m    \u001b[39m\u001b[38;5;124;03m\"\"\"Runs particle filter until completion.\u001b[39;00m\n\u001b[0;32m    394\u001b[0m \n\u001b[0;32m    395\u001b[0m \u001b[38;5;124;03m    Note: this class implements the iterator protocol. This makes it\u001b[39;00m\n\u001b[1;32m   (...)\u001b[0m\n\u001b[0;32m    406\u001b[0m \u001b[38;5;124;03m    command only.\u001b[39;00m\n\u001b[0;32m    407\u001b[0m \u001b[38;5;124;03m    \"\"\"\u001b[39;00m\n\u001b[1;32m--> 408\u001b[0m \u001b[43m    \u001b[49m\u001b[38;5;28;43;01mfor\u001b[39;49;00m\u001b[43m \u001b[49m\u001b[43m_\u001b[49m\u001b[43m \u001b[49m\u001b[38;5;129;43;01min\u001b[39;49;00m\u001b[43m \u001b[49m\u001b[38;5;28;43mself\u001b[39;49m\u001b[43m:\u001b[49m\n\u001b[0;32m    409\u001b[0m \u001b[43m        \u001b[49m\u001b[38;5;28;43;01mpass\u001b[39;49;00m\n",
      "File \u001b[1;32mc:\\Users\\Paul\\.conda\\envs\\hmm\\Lib\\site-packages\\particles\\core.py:374\u001b[0m, in \u001b[0;36mSMC.__next__\u001b[1;34m(self)\u001b[0m\n\u001b[0;32m    372\u001b[0m     \u001b[38;5;28;01mraise\u001b[39;00m \u001b[38;5;167;01mStopIteration\u001b[39;00m\n\u001b[0;32m    373\u001b[0m \u001b[38;5;28;01mif\u001b[39;00m \u001b[38;5;28mself\u001b[39m\u001b[38;5;241m.\u001b[39mt \u001b[38;5;241m==\u001b[39m \u001b[38;5;241m0\u001b[39m:\n\u001b[1;32m--> 374\u001b[0m     \u001b[38;5;28;43mself\u001b[39;49m\u001b[38;5;241;43m.\u001b[39;49m\u001b[43mgenerate_particles\u001b[49m\u001b[43m(\u001b[49m\u001b[43m)\u001b[49m\n\u001b[0;32m    375\u001b[0m \u001b[38;5;28;01melse\u001b[39;00m:\n\u001b[0;32m    376\u001b[0m     \u001b[38;5;28mself\u001b[39m\u001b[38;5;241m.\u001b[39msetup_auxiliary_weights()  \u001b[38;5;66;03m# APF\u001b[39;00m\n",
      "File \u001b[1;32mc:\\Users\\Paul\\.conda\\envs\\hmm\\Lib\\site-packages\\particles\\core.py:321\u001b[0m, in \u001b[0;36mSMC.generate_particles\u001b[1;34m(self)\u001b[0m\n\u001b[0;32m    319\u001b[0m     \u001b[38;5;28mself\u001b[39m\u001b[38;5;241m.\u001b[39mX \u001b[38;5;241m=\u001b[39m \u001b[38;5;28mself\u001b[39m\u001b[38;5;241m.\u001b[39mfk\u001b[38;5;241m.\u001b[39mGamma0(u)\n\u001b[0;32m    320\u001b[0m \u001b[38;5;28;01melse\u001b[39;00m:\n\u001b[1;32m--> 321\u001b[0m     \u001b[38;5;28mself\u001b[39m\u001b[38;5;241m.\u001b[39mX \u001b[38;5;241m=\u001b[39m \u001b[38;5;28;43mself\u001b[39;49m\u001b[38;5;241;43m.\u001b[39;49m\u001b[43mfk\u001b[49m\u001b[38;5;241;43m.\u001b[39;49m\u001b[43mM0\u001b[49m\u001b[43m(\u001b[49m\u001b[38;5;28;43mself\u001b[39;49m\u001b[38;5;241;43m.\u001b[39;49m\u001b[43mN\u001b[49m\u001b[43m)\u001b[49m\n",
      "File \u001b[1;32mc:\\Users\\Paul\\.conda\\envs\\hmm\\Lib\\site-packages\\particles\\smc_samplers.py:771\u001b[0m, in \u001b[0;36mFKSMCsampler.M0\u001b[1;34m(self, N)\u001b[0m\n\u001b[0;32m    769\u001b[0m \u001b[38;5;28;01mdef\u001b[39;00m \u001b[38;5;21mM0\u001b[39m(\u001b[38;5;28mself\u001b[39m, N):\n\u001b[0;32m    770\u001b[0m     N0 \u001b[38;5;241m=\u001b[39m N \u001b[38;5;241m*\u001b[39m \u001b[38;5;28mself\u001b[39m\u001b[38;5;241m.\u001b[39mlen_chain \u001b[38;5;28;01mif\u001b[39;00m \u001b[38;5;28mself\u001b[39m\u001b[38;5;241m.\u001b[39mwastefree \u001b[38;5;28;01melse\u001b[39;00m N\n\u001b[1;32m--> 771\u001b[0m     \u001b[38;5;28;01mreturn\u001b[39;00m \u001b[38;5;28;43mself\u001b[39;49m\u001b[38;5;241;43m.\u001b[39;49m\u001b[43m_M0\u001b[49m\u001b[43m(\u001b[49m\u001b[43mN0\u001b[49m\u001b[43m)\u001b[49m\n",
      "File \u001b[1;32mc:\\Users\\Paul\\.conda\\envs\\hmm\\Lib\\site-packages\\particles\\smc_samplers.py:861\u001b[0m, in \u001b[0;36mTempering._M0\u001b[1;34m(self, N)\u001b[0m\n\u001b[0;32m    859\u001b[0m x0\u001b[38;5;241m.\u001b[39mshared[\u001b[38;5;124m\"\u001b[39m\u001b[38;5;124mexponents\u001b[39m\u001b[38;5;124m\"\u001b[39m] \u001b[38;5;241m=\u001b[39m [\u001b[38;5;241m0.0\u001b[39m]\n\u001b[0;32m    860\u001b[0m x0\u001b[38;5;241m.\u001b[39mshared[\u001b[38;5;124m\"\u001b[39m\u001b[38;5;124mpath_sampling\u001b[39m\u001b[38;5;124m\"\u001b[39m] \u001b[38;5;241m=\u001b[39m [\u001b[38;5;241m0.0\u001b[39m]\n\u001b[1;32m--> 861\u001b[0m \u001b[38;5;28;43mself\u001b[39;49m\u001b[38;5;241;43m.\u001b[39;49m\u001b[43mcurrent_target\u001b[49m\u001b[43m(\u001b[49m\u001b[38;5;241;43m0.0\u001b[39;49m\u001b[43m)\u001b[49m\u001b[43m(\u001b[49m\u001b[43mx0\u001b[49m\u001b[43m)\u001b[49m\n\u001b[0;32m    862\u001b[0m \u001b[38;5;28;01mreturn\u001b[39;00m x0\n",
      "File \u001b[1;32mc:\\Users\\Paul\\.conda\\envs\\hmm\\Lib\\site-packages\\particles\\smc_samplers.py:848\u001b[0m, in \u001b[0;36mTempering.current_target.<locals>.func\u001b[1;34m(x)\u001b[0m\n\u001b[0;32m    847\u001b[0m \u001b[38;5;28;01mdef\u001b[39;00m \u001b[38;5;21mfunc\u001b[39m(x):\n\u001b[1;32m--> 848\u001b[0m     x\u001b[38;5;241m.\u001b[39mlprior \u001b[38;5;241m=\u001b[39m \u001b[38;5;28;43mself\u001b[39;49m\u001b[38;5;241;43m.\u001b[39;49m\u001b[43mmodel\u001b[49m\u001b[38;5;241;43m.\u001b[39;49m\u001b[43mprior\u001b[49m\u001b[38;5;241;43m.\u001b[39;49m\u001b[43mlogpdf\u001b[49m\u001b[43m(\u001b[49m\u001b[43mx\u001b[49m\u001b[38;5;241;43m.\u001b[39;49m\u001b[43mtheta\u001b[49m\u001b[43m)\u001b[49m\n\u001b[0;32m    849\u001b[0m     x\u001b[38;5;241m.\u001b[39mllik \u001b[38;5;241m=\u001b[39m \u001b[38;5;28mself\u001b[39m\u001b[38;5;241m.\u001b[39mmodel\u001b[38;5;241m.\u001b[39mloglik(x\u001b[38;5;241m.\u001b[39mtheta)\n\u001b[0;32m    850\u001b[0m     \u001b[38;5;28;01mif\u001b[39;00m epn \u001b[38;5;241m>\u001b[39m \u001b[38;5;241m0.0\u001b[39m:\n",
      "File \u001b[1;32mc:\\Users\\Paul\\.conda\\envs\\hmm\\Lib\\site-packages\\particles\\distributions.py:1176\u001b[0m, in \u001b[0;36mStructDist.logpdf\u001b[1;34m(self, theta)\u001b[0m\n\u001b[0;32m   1174\u001b[0m \u001b[38;5;28;01mfor\u001b[39;00m par, law \u001b[38;5;129;01min\u001b[39;00m \u001b[38;5;28mself\u001b[39m\u001b[38;5;241m.\u001b[39mlaws\u001b[38;5;241m.\u001b[39mitems():\n\u001b[0;32m   1175\u001b[0m     cond_law \u001b[38;5;241m=\u001b[39m law(theta) \u001b[38;5;28;01mif\u001b[39;00m \u001b[38;5;28mcallable\u001b[39m(law) \u001b[38;5;28;01melse\u001b[39;00m law\n\u001b[1;32m-> 1176\u001b[0m     lp \u001b[38;5;241m+\u001b[39m\u001b[38;5;241m=\u001b[39m \u001b[43mcond_law\u001b[49m\u001b[38;5;241;43m.\u001b[39;49m\u001b[43mlogpdf\u001b[49m\u001b[43m(\u001b[49m\u001b[43mtheta\u001b[49m\u001b[43m[\u001b[49m\u001b[43mpar\u001b[49m\u001b[43m]\u001b[49m\u001b[43m)\u001b[49m\n\u001b[0;32m   1177\u001b[0m \u001b[38;5;28;01mreturn\u001b[39;00m lp\n",
      "File \u001b[1;32mc:\\Users\\Paul\\.conda\\envs\\hmm\\Lib\\site-packages\\particles\\distributions.py:1069\u001b[0m, in \u001b[0;36mIndepProd.logpdf\u001b[1;34m(self, x)\u001b[0m\n\u001b[0;32m   1068\u001b[0m \u001b[38;5;28;01mdef\u001b[39;00m \u001b[38;5;21mlogpdf\u001b[39m(\u001b[38;5;28mself\u001b[39m, x):\n\u001b[1;32m-> 1069\u001b[0m     \u001b[38;5;28;01mreturn\u001b[39;00m \u001b[38;5;28msum\u001b[39m(\u001b[43m[\u001b[49m\u001b[43md\u001b[49m\u001b[38;5;241;43m.\u001b[39;49m\u001b[43mlogpdf\u001b[49m\u001b[43m(\u001b[49m\u001b[43mx\u001b[49m\u001b[43m[\u001b[49m\u001b[38;5;241;43m.\u001b[39;49m\u001b[38;5;241;43m.\u001b[39;49m\u001b[38;5;241;43m.\u001b[39;49m\u001b[43m,\u001b[49m\u001b[43m \u001b[49m\u001b[43mi\u001b[49m\u001b[43m]\u001b[49m\u001b[43m)\u001b[49m\u001b[43m \u001b[49m\u001b[38;5;28;43;01mfor\u001b[39;49;00m\u001b[43m \u001b[49m\u001b[43mi\u001b[49m\u001b[43m,\u001b[49m\u001b[43m \u001b[49m\u001b[43md\u001b[49m\u001b[43m \u001b[49m\u001b[38;5;129;43;01min\u001b[39;49;00m\u001b[43m \u001b[49m\u001b[38;5;28;43menumerate\u001b[39;49m\u001b[43m(\u001b[49m\u001b[38;5;28;43mself\u001b[39;49m\u001b[38;5;241;43m.\u001b[39;49m\u001b[43mdists\u001b[49m\u001b[43m)\u001b[49m\u001b[43m]\u001b[49m)\n",
      "File \u001b[1;32mc:\\Users\\Paul\\.conda\\envs\\hmm\\Lib\\site-packages\\particles\\distributions.py:1069\u001b[0m, in \u001b[0;36m<listcomp>\u001b[1;34m(.0)\u001b[0m\n\u001b[0;32m   1068\u001b[0m \u001b[38;5;28;01mdef\u001b[39;00m \u001b[38;5;21mlogpdf\u001b[39m(\u001b[38;5;28mself\u001b[39m, x):\n\u001b[1;32m-> 1069\u001b[0m     \u001b[38;5;28;01mreturn\u001b[39;00m \u001b[38;5;28msum\u001b[39m([\u001b[43md\u001b[49m\u001b[38;5;241;43m.\u001b[39;49m\u001b[43mlogpdf\u001b[49m\u001b[43m(\u001b[49m\u001b[43mx\u001b[49m\u001b[43m[\u001b[49m\u001b[38;5;241;43m.\u001b[39;49m\u001b[38;5;241;43m.\u001b[39;49m\u001b[38;5;241;43m.\u001b[39;49m\u001b[43m,\u001b[49m\u001b[43m \u001b[49m\u001b[43mi\u001b[49m\u001b[43m]\u001b[49m\u001b[43m)\u001b[49m \u001b[38;5;28;01mfor\u001b[39;00m i, d \u001b[38;5;129;01min\u001b[39;00m \u001b[38;5;28menumerate\u001b[39m(\u001b[38;5;28mself\u001b[39m\u001b[38;5;241m.\u001b[39mdists)])\n",
      "File \u001b[1;32mc:\\Users\\Paul\\.conda\\envs\\hmm\\Lib\\site-packages\\particles\\distributions.py:617\u001b[0m, in \u001b[0;36mCategorical.logpdf\u001b[1;34m(self, x)\u001b[0m\n\u001b[0;32m    615\u001b[0m d \u001b[38;5;241m=\u001b[39m lp\u001b[38;5;241m.\u001b[39mshape[\u001b[38;5;241m-\u001b[39m\u001b[38;5;241m1\u001b[39m]\n\u001b[0;32m    616\u001b[0m choices \u001b[38;5;241m=\u001b[39m [lp[\u001b[38;5;241m.\u001b[39m\u001b[38;5;241m.\u001b[39m\u001b[38;5;241m.\u001b[39m, k] \u001b[38;5;28;01mfor\u001b[39;00m k \u001b[38;5;129;01min\u001b[39;00m \u001b[38;5;28mrange\u001b[39m(d)]\n\u001b[1;32m--> 617\u001b[0m \u001b[38;5;28;01mreturn\u001b[39;00m \u001b[43mnp\u001b[49m\u001b[38;5;241;43m.\u001b[39;49m\u001b[43mchoose\u001b[49m\u001b[43m(\u001b[49m\u001b[43mx\u001b[49m\u001b[43m,\u001b[49m\u001b[43m \u001b[49m\u001b[43mchoices\u001b[49m\u001b[43m)\u001b[49m\n",
      "File \u001b[1;32mc:\\Users\\Paul\\.conda\\envs\\hmm\\Lib\\site-packages\\numpy\\core\\fromnumeric.py:416\u001b[0m, in \u001b[0;36mchoose\u001b[1;34m(a, choices, out, mode)\u001b[0m\n\u001b[0;32m    294\u001b[0m \u001b[38;5;129m@array_function_dispatch\u001b[39m(_choose_dispatcher)\n\u001b[0;32m    295\u001b[0m \u001b[38;5;28;01mdef\u001b[39;00m \u001b[38;5;21mchoose\u001b[39m(a, choices, out\u001b[38;5;241m=\u001b[39m\u001b[38;5;28;01mNone\u001b[39;00m, mode\u001b[38;5;241m=\u001b[39m\u001b[38;5;124m'\u001b[39m\u001b[38;5;124mraise\u001b[39m\u001b[38;5;124m'\u001b[39m):\n\u001b[0;32m    296\u001b[0m \u001b[38;5;250m    \u001b[39m\u001b[38;5;124;03m\"\"\"\u001b[39;00m\n\u001b[0;32m    297\u001b[0m \u001b[38;5;124;03m    Construct an array from an index array and a list of arrays to choose from.\u001b[39;00m\n\u001b[0;32m    298\u001b[0m \n\u001b[1;32m   (...)\u001b[0m\n\u001b[0;32m    414\u001b[0m \n\u001b[0;32m    415\u001b[0m \u001b[38;5;124;03m    \"\"\"\u001b[39;00m\n\u001b[1;32m--> 416\u001b[0m     \u001b[38;5;28;01mreturn\u001b[39;00m \u001b[43m_wrapfunc\u001b[49m\u001b[43m(\u001b[49m\u001b[43ma\u001b[49m\u001b[43m,\u001b[49m\u001b[43m \u001b[49m\u001b[38;5;124;43m'\u001b[39;49m\u001b[38;5;124;43mchoose\u001b[39;49m\u001b[38;5;124;43m'\u001b[39;49m\u001b[43m,\u001b[49m\u001b[43m \u001b[49m\u001b[43mchoices\u001b[49m\u001b[43m,\u001b[49m\u001b[43m \u001b[49m\u001b[43mout\u001b[49m\u001b[38;5;241;43m=\u001b[39;49m\u001b[43mout\u001b[49m\u001b[43m,\u001b[49m\u001b[43m \u001b[49m\u001b[43mmode\u001b[49m\u001b[38;5;241;43m=\u001b[39;49m\u001b[43mmode\u001b[49m\u001b[43m)\u001b[49m\n",
      "File \u001b[1;32mc:\\Users\\Paul\\.conda\\envs\\hmm\\Lib\\site-packages\\numpy\\core\\fromnumeric.py:68\u001b[0m, in \u001b[0;36m_wrapfunc\u001b[1;34m(obj, method, *args, **kwds)\u001b[0m\n\u001b[0;32m     59\u001b[0m     \u001b[38;5;28;01mreturn\u001b[39;00m bound(\u001b[38;5;241m*\u001b[39margs, \u001b[38;5;241m*\u001b[39m\u001b[38;5;241m*\u001b[39mkwds)\n\u001b[0;32m     60\u001b[0m \u001b[38;5;28;01mexcept\u001b[39;00m \u001b[38;5;167;01mTypeError\u001b[39;00m:\n\u001b[0;32m     61\u001b[0m     \u001b[38;5;66;03m# A TypeError occurs if the object does have such a method in its\u001b[39;00m\n\u001b[0;32m     62\u001b[0m     \u001b[38;5;66;03m# class, but its signature is not identical to that of NumPy's. This\u001b[39;00m\n\u001b[1;32m   (...)\u001b[0m\n\u001b[0;32m     66\u001b[0m     \u001b[38;5;66;03m# Call _wrapit from within the except clause to ensure a potential\u001b[39;00m\n\u001b[0;32m     67\u001b[0m     \u001b[38;5;66;03m# exception has a traceback chain.\u001b[39;00m\n\u001b[1;32m---> 68\u001b[0m     \u001b[38;5;28;01mreturn\u001b[39;00m \u001b[43m_wrapit\u001b[49m\u001b[43m(\u001b[49m\u001b[43mobj\u001b[49m\u001b[43m,\u001b[49m\u001b[43m \u001b[49m\u001b[43mmethod\u001b[49m\u001b[43m,\u001b[49m\u001b[43m \u001b[49m\u001b[38;5;241;43m*\u001b[39;49m\u001b[43margs\u001b[49m\u001b[43m,\u001b[49m\u001b[43m \u001b[49m\u001b[38;5;241;43m*\u001b[39;49m\u001b[38;5;241;43m*\u001b[39;49m\u001b[43mkwds\u001b[49m\u001b[43m)\u001b[49m\n",
      "File \u001b[1;32mc:\\Users\\Paul\\.conda\\envs\\hmm\\Lib\\site-packages\\numpy\\core\\fromnumeric.py:45\u001b[0m, in \u001b[0;36m_wrapit\u001b[1;34m(obj, method, *args, **kwds)\u001b[0m\n\u001b[0;32m     43\u001b[0m \u001b[38;5;28;01mexcept\u001b[39;00m \u001b[38;5;167;01mAttributeError\u001b[39;00m:\n\u001b[0;32m     44\u001b[0m     wrap \u001b[38;5;241m=\u001b[39m \u001b[38;5;28;01mNone\u001b[39;00m\n\u001b[1;32m---> 45\u001b[0m result \u001b[38;5;241m=\u001b[39m \u001b[38;5;28;43mgetattr\u001b[39;49m\u001b[43m(\u001b[49m\u001b[43masarray\u001b[49m\u001b[43m(\u001b[49m\u001b[43mobj\u001b[49m\u001b[43m)\u001b[49m\u001b[43m,\u001b[49m\u001b[43m \u001b[49m\u001b[43mmethod\u001b[49m\u001b[43m)\u001b[49m\u001b[43m(\u001b[49m\u001b[38;5;241;43m*\u001b[39;49m\u001b[43margs\u001b[49m\u001b[43m,\u001b[49m\u001b[43m \u001b[49m\u001b[38;5;241;43m*\u001b[39;49m\u001b[38;5;241;43m*\u001b[39;49m\u001b[43mkwds\u001b[49m\u001b[43m)\u001b[49m\n\u001b[0;32m     46\u001b[0m \u001b[38;5;28;01mif\u001b[39;00m wrap:\n\u001b[0;32m     47\u001b[0m     \u001b[38;5;28;01mif\u001b[39;00m \u001b[38;5;129;01mnot\u001b[39;00m \u001b[38;5;28misinstance\u001b[39m(result, mu\u001b[38;5;241m.\u001b[39mndarray):\n",
      "\u001b[1;31mTypeError\u001b[0m: Cannot cast array data from dtype('float64') to dtype('int64') according to the rule 'safe'"
     ]
    }
   ],
   "source": [
    "from particles.smc_samplers import AdaptiveTempering\n",
    "import particles\n",
    "\n",
    "# finally\n",
    "fk_tpr = AdaptiveTempering(model=toy_bridge, len_chain=1, move=move)\n",
    "alg = particles.SMC(fk=fk_tpr, N=200)\n",
    "alg.run()"
   ]
  },
  {
   "cell_type": "markdown",
   "metadata": {},
   "source": [
    "# Debug"
   ]
  },
  {
   "cell_type": "code",
   "execution_count": null,
   "metadata": {},
   "outputs": [],
   "source": [
    "from particles.smc_samplers import MCMCSequenceWF, AdaptiveTempering, ArrayRandomWalk\n",
    "import particles\n",
    "\n",
    "from particles.smc_samplers import ThetaParticles\n",
    "x0 = ThetaParticles(theta=alg.fk.model.prior.rvs(size=100))"
   ]
  },
  {
   "cell_type": "code",
   "execution_count": null,
   "metadata": {},
   "outputs": [
    {
     "data": {
      "text/plain": [
       "array([1., 1., 1., 1., 2., 0., 1., 0., 2., 0., 2., 0., 1., 0., 2., 1., 1.,\n",
       "       0., 0., 1., 1., 0., 0., 0., 0., 1., 1., 1., 1., 2., 0., 1., 2., 1.,\n",
       "       0., 1., 1., 1., 2., 1.])"
      ]
     },
     "execution_count": 15,
     "metadata": {},
     "output_type": "execute_result"
    }
   ],
   "source": [
    "x0.theta[\"Z\"][0]"
   ]
  },
  {
   "cell_type": "code",
   "execution_count": null,
   "metadata": {},
   "outputs": [
    {
     "data": {
      "text/plain": [
       "<particles.smc_samplers.AdaptiveTempering at 0x1d5c7102490>"
      ]
     },
     "execution_count": 18,
     "metadata": {},
     "output_type": "execute_result"
    }
   ],
   "source": [
    "alg.fk"
   ]
  },
  {
   "cell_type": "code",
   "execution_count": null,
   "metadata": {},
   "outputs": [],
   "source": []
  }
 ],
 "metadata": {
  "kernelspec": {
   "display_name": "hmm",
   "language": "python",
   "name": "python3"
  },
  "language_info": {
   "codemirror_mode": {
    "name": "ipython",
    "version": 3
   },
   "file_extension": ".py",
   "mimetype": "text/x-python",
   "name": "python",
   "nbconvert_exporter": "python",
   "pygments_lexer": "ipython3",
   "version": "3.11.5"
  }
 },
 "nbformat": 4,
 "nbformat_minor": 2
}
