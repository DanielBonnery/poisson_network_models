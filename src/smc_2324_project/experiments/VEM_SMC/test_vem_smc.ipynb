{
   "cells": [
      {
         "cell_type": "markdown",
         "metadata": {},
         "source": [
            "# Prior"
         ]
      },
      {
         "cell_type": "code",
         "execution_count": 1,
         "metadata": {},
         "outputs": [
            {
               "name": "stdout",
               "output_type": "stream",
               "text": [
                  "c:\\Users\\Paul\\Documents\\X\\4A\\S1\\HMM\\poisson_network_models\n"
               ]
            }
         ],
         "source": [
            "import numpy as np\n",
            "from matplotlib import pyplot as plt\n",
            "\n",
            "import os\n",
            "os.chdir('../../../..')\n",
            "print(os.getcwd())\n",
            "\n",
            "from src.smc_2324_project.simulate.generate_dataset import *\n",
            "from src.smc_2324_project.tempering.base_dist import *\n",
            "from src.smc_2324_project.tempering.tempering import *\n",
            "\n",
            "from src.smc_2324_project.variational.posterior_gamma import hessian, sample_from_gamma\n",
            "from src.smc_2324_project.variational.posterior_nu import sample_from_nu\n",
            "from src.smc_2324_project.variational.SBM_regression import VEM"
         ]
      },
      {
         "cell_type": "code",
         "execution_count": 2,
         "metadata": {},
         "outputs": [],
         "source": [
            "# hyperparameters\n",
            "n, k, p = 40, 3, 4\n",
            "gamma_0 = np.array([0.6,0.6,0.6]+[1, 0, 3, 1.1, 2.2, 0.1, -0.3])\n",
            "V_0 = np.eye(len(gamma_0))\n",
            "e_0 = 3 * np.ones(k)\n",
            "\n",
            "# prior\n",
            "theta_prior = define_theta_prior(gamma_0, V_0, e_0)\n",
            "prior = define_prior(theta_prior, n)"
         ]
      },
      {
         "cell_type": "markdown",
         "metadata": {},
         "source": [
            "# Dataset"
         ]
      },
      {
         "cell_type": "code",
         "execution_count": 3,
         "metadata": {},
         "outputs": [],
         "source": [
            "# generate dataset\n",
            "alpha, beta, nu = generate_network_params(k, gamma_0, V_0, e_0)\n",
            "X = generate_covariates(n, p)\n",
            "sample_from_network((alpha, beta, nu), X)\n",
            "theta = (alpha,beta,nu)\n",
            "Z, Y = sample_from_network(theta,X, return_Z=True)"
         ]
      },
      {
         "cell_type": "markdown",
         "metadata": {},
         "source": [
            "# VEM inference"
         ]
      },
      {
         "cell_type": "code",
         "execution_count": 4,
         "metadata": {},
         "outputs": [
            {
               "name": "stdout",
               "output_type": "stream",
               "text": [
                  "number of iterations: 11\n",
                  "terminal gamma, nu: (array([-0.00347132, -0.42191044, -0.42568536, -0.43119658, -0.42860177,\n",
                  "       -0.43243187,  0.49819635,  0.74662987,  0.70665913, -0.00844229]), array([0.22085012, 0.73000307, 0.04914681]))\n"
               ]
            }
         ],
         "source": [
            "# VEM\n",
            "particle = prior.rvs()[0]\n",
            "gamma_init, nu_init = particle[\"theta\"][\"gamma\"], particle[\"theta\"][\"nu\"]\n",
            "tau_init = np.array([nu for i in range(n)])\n",
            "inferred_gamma, inferred_nu, inferred_tau = VEM(Y, X, gamma_init, nu_init, tau_init)\n",
            "hess = hessian(Y, X, inferred_tau, inferred_gamma)"
         ]
      },
      {
         "cell_type": "code",
         "execution_count": 5,
         "metadata": {},
         "outputs": [],
         "source": [
            "# posterior distribution\n",
            "e_tilde = e_0 + np.sum(inferred_tau,axis=0)\n",
            "invV0 = np.linalg.inv(V_0)\n",
            "cov_gamma = np.linalg.inv((invV0 - hess))\n",
            "mean_gamma = cov_gamma @ (invV0 @ gamma_0 - hess @ inferred_gamma)"
         ]
      },
      {
         "cell_type": "code",
         "execution_count": 6,
         "metadata": {},
         "outputs": [],
         "source": [
            "# relaxation\n",
            "relaxation = 0.4\n",
            "cov_gamma = (1-relaxation) * cov_gamma + relaxation * np.eye(len(gamma_0))\n",
            "e_tilde = (1-relaxation) * e_tilde + relaxation * e_0\n",
            "inferred_nu = (1-relaxation) * inferred_nu + relaxation * nu"
         ]
      },
      {
         "cell_type": "code",
         "execution_count": 7,
         "metadata": {},
         "outputs": [],
         "source": [
            "# base_dist\n",
            "base_dist = define_VEM_base_dist(inferred_tau, inferred_nu, mean_gamma, cov_gamma)"
         ]
      },
      {
         "cell_type": "code",
         "execution_count": 8,
         "metadata": {},
         "outputs": [],
         "source": [
            "# debug\n",
            "sample = base_dist.rvs()\n",
            "assert base_dist.logpdf(sample) < 0 # not necessarily true, but should be true most of the time"
         ]
      },
      {
         "cell_type": "markdown",
         "metadata": {},
         "source": [
            "# Logtarget and model"
         ]
      },
      {
         "cell_type": "code",
         "execution_count": 9,
         "metadata": {},
         "outputs": [],
         "source": [
            "# target\n",
            "compute_llh_target = define_llh_target(prior, X, Y, k)"
         ]
      },
      {
         "cell_type": "code",
         "execution_count": 10,
         "metadata": {},
         "outputs": [],
         "source": [
            "from particles.smc_samplers import TemperingBridge\n",
            "\n",
            "class ToyBridge(TemperingBridge):\n",
            "    def logtarget(self, theta):\n",
            "        return compute_llh_target(theta)"
         ]
      },
      {
         "cell_type": "code",
         "execution_count": 11,
         "metadata": {},
         "outputs": [],
         "source": [
            "toy_bridge = ToyBridge(base_dist=base_dist)"
         ]
      },
      {
         "cell_type": "markdown",
         "metadata": {},
         "source": [
            "# Move"
         ]
      },
      {
         "cell_type": "code",
         "execution_count": 12,
         "metadata": {},
         "outputs": [],
         "source": [
            "move = FixedLenMCMCSequence(mcmc=CustomGibbs(k, e_0, e_tilde), len_chain=5)"
         ]
      },
      {
         "cell_type": "markdown",
         "metadata": {},
         "source": [
            "# AdaptiveTempering"
         ]
      },
      {
         "cell_type": "code",
         "execution_count": 13,
         "metadata": {},
         "outputs": [
            {
               "name": "stdout",
               "output_type": "stream",
               "text": [
                  "t=0, ESS=100.00, tempering exponent=0.000983\n",
                  "t=1, Metropolis acc. rate (over 1 steps): 0.160, ESS=100.00, tempering exponent=0.00294\n",
                  "t=2, Metropolis acc. rate (over 1 steps): 0.115, ESS=100.00, tempering exponent=0.006\n",
                  "t=3, Metropolis acc. rate (over 1 steps): 0.080, ESS=100.00, tempering exponent=0.0102\n",
                  "t=4, Metropolis acc. rate (over 1 steps): 0.125, ESS=100.00, tempering exponent=0.0155\n",
                  "t=5, Metropolis acc. rate (over 1 steps): 0.050, ESS=100.00, tempering exponent=0.0214\n",
                  "t=6, Metropolis acc. rate (over 1 steps): 0.050, ESS=100.00, tempering exponent=0.0287\n",
                  "t=7, Metropolis acc. rate (over 1 steps): 0.085, ESS=100.00, tempering exponent=0.0378\n",
                  "t=8, Metropolis acc. rate (over 1 steps): 0.060, ESS=100.00, tempering exponent=0.0489\n",
                  "t=9, Metropolis acc. rate (over 1 steps): 0.070, ESS=100.00, tempering exponent=0.0615\n",
                  "t=10, Metropolis acc. rate (over 1 steps): 0.050, ESS=100.00, tempering exponent=0.0801\n",
                  "t=11, Metropolis acc. rate (over 1 steps): 0.040, ESS=100.00, tempering exponent=0.106\n",
                  "t=12, Metropolis acc. rate (over 1 steps): 0.010, ESS=100.00, tempering exponent=0.128\n",
                  "t=13, Metropolis acc. rate (over 1 steps): 0.025, ESS=100.00, tempering exponent=0.156\n",
                  "t=14, Metropolis acc. rate (over 1 steps): 0.000, ESS=100.00, tempering exponent=0.191\n",
                  "t=15, Metropolis acc. rate (over 1 steps): 0.030, ESS=100.00, tempering exponent=0.239\n",
                  "t=16, Metropolis acc. rate (over 1 steps): 0.025, ESS=100.00, tempering exponent=0.272\n",
                  "t=17, Metropolis acc. rate (over 1 steps): 0.015, ESS=100.00, tempering exponent=0.304\n",
                  "t=18, Metropolis acc. rate (over 1 steps): 0.020, ESS=100.00, tempering exponent=0.337\n",
                  "t=19, Metropolis acc. rate (over 1 steps): 0.030, ESS=100.00, tempering exponent=0.365\n",
                  "t=20, Metropolis acc. rate (over 1 steps): 0.035, ESS=100.00, tempering exponent=0.39\n",
                  "t=21, Metropolis acc. rate (over 1 steps): 0.025, ESS=100.00, tempering exponent=0.419\n",
                  "t=22, Metropolis acc. rate (over 1 steps): 0.035, ESS=100.00, tempering exponent=0.451\n",
                  "t=23, Metropolis acc. rate (over 1 steps): 0.035, ESS=100.00, tempering exponent=0.489\n",
                  "t=24, Metropolis acc. rate (over 1 steps): 0.025, ESS=100.00, tempering exponent=0.549\n",
                  "t=25, Metropolis acc. rate (over 1 steps): 0.025, ESS=100.00, tempering exponent=0.597\n",
                  "t=26, Metropolis acc. rate (over 1 steps): 0.020, ESS=100.00, tempering exponent=0.643\n",
                  "t=27, Metropolis acc. rate (over 1 steps): 0.030, ESS=100.00, tempering exponent=0.693\n",
                  "t=28, Metropolis acc. rate (over 1 steps): 0.035, ESS=100.00, tempering exponent=0.752\n",
                  "t=29, Metropolis acc. rate (over 1 steps): 0.010, ESS=100.00, tempering exponent=0.808\n",
                  "t=30, Metropolis acc. rate (over 1 steps): 0.020, ESS=100.00, tempering exponent=0.865\n",
                  "t=31, Metropolis acc. rate (over 1 steps): 0.050, ESS=100.00, tempering exponent=0.949\n",
                  "t=32, Metropolis acc. rate (over 1 steps): 0.030, ESS=121.59, tempering exponent=1\n"
               ]
            }
         ],
         "source": [
            "import particles\n",
            "\n",
            "# finally\n",
            "fk_tpr = FlexibeAdaptiveTempering(model=toy_bridge, len_chain=100, \n",
            "                                  move=move, wastefree=False,\n",
            "                                  tempering_step_size = 0.5) # tempering_step_size = 1-tau_1\n",
            "alg = particles.SMC(fk=fk_tpr, N=200, ESSrmin=0.8,\n",
            "                    store_history=True, verbose=True)\n",
            "alg.run()"
         ]
      },
      {
         "cell_type": "markdown",
         "metadata": {},
         "source": [
            "# Convergence plot"
         ]
      },
      {
         "cell_type": "code",
         "execution_count": 14,
         "metadata": {},
         "outputs": [
            {
               "data": {
                  "image/png": "[encoded data removed]",
                  "text/plain": [
                     "<Figure size 640x480 with 1 Axes>"
                  ]
               },
               "metadata": {},
               "output_type": "display_data"
            }
         ],
         "source": [
            "# exponents\n",
            "exponents = alg.X.shared[\"exponents\"]\n",
            "plt.plot(exponents)\n",
            "plt.title(\"exponents with tau_1 = 0.5\")\n",
            "plt.show()"
         ]
      },
      {
         "cell_type": "code",
         "execution_count": 17,
         "metadata": {},
         "outputs": [
            {
               "name": "stdout",
               "output_type": "stream",
               "text": [
                  "gamma_test =  (200, 10)\n"
               ]
            }
         ],
         "source": [
            "gamma_test = alg.hist.X[0].theta[\"theta\"][\"gamma\"]\n",
            "print(\"gamma_test = \", gamma_test.shape)"
         ]
      },
      {
         "cell_type": "code",
         "execution_count": 23,
         "metadata": {},
         "outputs": [
            {
               "data": {
                  "text/plain": [
                     "33"
                  ]
               },
               "execution_count": 23,
               "metadata": {},
               "output_type": "execute_result"
            }
         ],
         "source": [
            "len(alg.hist.X)"
         ]
      },
      {
         "cell_type": "code",
         "execution_count": 25,
         "metadata": {},
         "outputs": [
            {
               "data": {
                  "text/plain": [
                     "<matplotlib.legend.Legend at 0x2a696fc2f50>"
                  ]
               },
               "execution_count": 25,
               "metadata": {},
               "output_type": "execute_result"
            },
            {
               "data": {
                  "image/png": "[encoded data removed]",
                  "text/plain": [
                     "<Figure size 1200x200 with 4 Axes>"
                  ]
               },
               "metadata": {},
               "output_type": "display_data"
            }
         ],
         "source": [
            "# beta distribution\n",
            "plt.style.use('ggplot')\n",
            "fig = plt.figure(figsize=(12, 2))\n",
            "num_exponents = len(exponents)\n",
            "for beta_idx in range(4):\n",
            "    plt.subplot(1, 4, beta_idx+1)\n",
            "    for t in [num_exponents//2, int(3/4*num_exponents), num_exponents-2]:\n",
            "        assert t < len(alg.hist.X), \"t={} is greater than {}\".format(t, len(alg.hist.X))\n",
            "        beta_i = alg.hist.X[t].theta[\"theta\"][\"gamma\"][:,k*(k+1)//2+beta_idx]\n",
            "        weights = alg.hist.wgts[t].W\n",
            "        plt.hist(beta_i, weights=weights, label=\"t=%i\" % t, \n",
            "                 alpha=0.5, density=True)\n",
            "    plt.xlabel(beta_idx)\n",
            "plt.legend()"
         ]
      },
      {
         "cell_type": "markdown",
         "metadata": {},
         "source": [
            "## Saving the results"
         ]
      },
      {
         "cell_type": "code",
         "execution_count": 27,
         "metadata": {},
         "outputs": [],
         "source": [
            "import pickle\n",
            "\n",
            "with open(\"data/hyperparams_tuning/tempering_1.pkl\", \"wb\") as f:\n",
            "    pickle.dump(alg.X, f)"
         ]
      },
      {
         "cell_type": "markdown",
         "metadata": {},
         "source": [
            "## About $\\tau$"
         ]
      },
      {
         "cell_type": "code",
         "execution_count": null,
         "metadata": {
            "collapsed": false
         },
         "outputs": [],
         "source": [
            "from scipy.cluster.hierarchy import dendrogram, linkage"
         ]
      },
      {
         "cell_type": "code",
         "execution_count": null,
         "metadata": {
            "collapsed": false
         },
         "outputs": [],
         "source": [
            "Z = linkage(Y, 'ward')\n",
            "d = dendrogram(Z)"
         ]
      },
      {
         "cell_type": "code",
         "execution_count": null,
         "metadata": {
            "collapsed": false
         },
         "outputs": [],
         "source": [
            "res = [(d['leaves'][i], int(d['leaves_color_list'][i][-1])) for i in range(n)]\n",
            "tau = np.zeros((n, k))\n",
            "for i, r in enumerate(res):\n",
            "    tau[i, r[1]-1] = 1"
         ]
      },
      {
         "cell_type": "code",
         "execution_count": null,
         "metadata": {
            "collapsed": false
         },
         "outputs": [
            {
               "data": {
                  "text/plain": [
                     "array([19., 11., 10.])"
                  ]
               },
               "execution_count": 47,
               "metadata": {},
               "output_type": "execute_result"
            }
         ],
         "source": [
            "np.sum(Y, axis=0)"
         ]
      },
      {
         "cell_type": "code",
         "execution_count": null,
         "metadata": {
            "collapsed": false
         },
         "outputs": [
            {
               "data": {
                  "text/plain": [
                     "array([19., 10., 11.])"
                  ]
               },
               "execution_count": 48,
               "metadata": {},
               "output_type": "execute_result"
            }
         ],
         "source": [
            "np.sum(tau, axis=0)"
         ]
      },
      {
         "cell_type": "code",
         "execution_count": null,
         "metadata": {
            "collapsed": false
         },
         "outputs": [],
         "source": []
      }
   ],
   "metadata": {
      "kernelspec": {
         "display_name": "hmm",
         "language": "python",
         "name": "python3"
      },
      "language_info": {
         "codemirror_mode": {
            "name": "ipython",
            "version": 3
         },
         "file_extension": ".py",
         "mimetype": "text/x-python",
         "name": "python",
         "nbconvert_exporter": "python",
         "pygments_lexer": "ipython3",
         "version": "3.11.5"
      }
   },
   "nbformat": 4,
   "nbformat_minor": 2
}
