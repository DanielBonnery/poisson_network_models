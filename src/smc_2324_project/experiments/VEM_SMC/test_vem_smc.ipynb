{
   "cells": [
      {
         "cell_type": "markdown",
         "metadata": {},
         "source": [
            "# Prior"
         ]
      },
      {
         "cell_type": "code",
         "execution_count": 8,
         "metadata": {},
         "outputs": [
            {
               "name": "stdout",
               "output_type": "stream",
               "text": [
                  "c:\\Users\\Paul\\Documents\\X\n"
               ]
            }
         ],
         "source": [
            "import numpy as np\n",
            "from matplotlib import pyplot as plt\n",
            "\n",
            "import os\n",
            "os.chdir('../../../..')\n",
            "print(os.getcwd())\n",
            "\n",
            "from src.smc_2324_project.simulate.generate_dataset import *\n",
            "from src.smc_2324_project.tempering.base_dist import *\n",
            "from src.smc_2324_project.tempering.tempering import *\n",
            "\n",
            "from src.smc_2324_project.variational.posterior_gamma import hessian, sample_from_gamma\n",
            "from src.smc_2324_project.variational.posterior_nu import sample_from_nu\n",
            "from src.smc_2324_project.variational.SBM_regression import VEM"
         ]
      },
      {
         "cell_type": "code",
         "execution_count": 3,
         "metadata": {},
         "outputs": [],
         "source": [
            "# hyperparameters\n",
            "n, k, p = 40, 3, 4\n",
            "gamma_0 = np.array([0.6,0.6,0.6,1, 0, 3, 1.1, 2.2, 0.1, -0.3])\n",
            "V_0 = np.eye(len(gamma_0))\n",
            "e_0 = 3 * np.ones(k)\n",
            "\n",
            "# prior\n",
            "theta_prior = define_theta_prior(gamma_0, V_0, e_0)\n",
            "prior = define_prior(theta_prior, n)"
         ]
      },
      {
         "cell_type": "markdown",
         "metadata": {},
         "source": [
            "# Dataset"
         ]
      },
      {
         "cell_type": "code",
         "execution_count": 5,
         "metadata": {},
         "outputs": [],
         "source": [
            "# generate dataset\n",
            "alpha, beta, nu = generate_network_params(k, gamma_0, V_0, e_0)\n",
            "X = generate_covariates(n, p)\n",
            "sample_from_network((alpha, beta, nu), X)\n",
            "theta = (alpha,beta,nu)\n",
            "Y, Z = sample_from_network(theta,X, return_Z=True)"
         ]
      },
      {
         "cell_type": "markdown",
         "metadata": {},
         "source": [
            "# VEM inference"
         ]
      },
      {
         "cell_type": "code",
         "execution_count": 11,
         "metadata": {},
         "outputs": [
            {
               "name": "stdout",
               "output_type": "stream",
               "text": [
                  "number of iterations: 15\n",
                  "terminal gamma, nu: (array([-1.17499011e+00, -1.17664275e+00, -1.17634420e+00, -1.17659386e+00,\n",
                  "       -1.17656164e+00, -1.17657832e+00, -5.61846657e-01,  5.10654938e-01,\n",
                  "        2.75807015e-05, -1.71989050e+00]), array([0.22286257, 0.77713743, 0.        ]))\n"
               ]
            }
         ],
         "source": [
            "# VEM\n",
            "particle = prior.rvs()[0]\n",
            "gamma_init, nu_init = particle[\"theta\"][\"gamma\"], particle[\"theta\"][\"nu\"]\n",
            "tau_init = np.array([nu for i in range(n)])\n",
            "inferred_gamma, inferred_nu, inferred_tau = VEM(Y, X, gamma_init, nu_init, tau_init)\n",
            "hess = hessian(Y, X, inferred_tau, inferred_gamma)"
         ]
      },
      {
         "cell_type": "code",
         "execution_count": 12,
         "metadata": {},
         "outputs": [],
         "source": [
            "# posterior distribution\n",
            "e_tilde = e_0 + np.sum(inferred_tau,axis=0)\n",
            "invV0 = np.linalg.inv(V_0)\n",
            "cov_gamma = np.linalg.inv((invV0 - hess))\n",
            "mean_gamma = cov_gamma @ (invV0 @ gamma_0 - hess @ inferred_gamma)"
         ]
      },
      {
         "cell_type": "code",
         "execution_count": 13,
         "metadata": {},
         "outputs": [],
         "source": [
            "# relaxation\n",
            "relaxation = 0.4\n",
            "cov_gamma = (1-relaxation) * cov_gamma + relaxation * np.eye(len(gamma_0))\n",
            "e_tilde = (1-relaxation) * e_tilde + relaxation * e_0\n",
            "inferred_nu = (1-relaxation) * inferred_nu + relaxation * nu"
         ]
      },
      {
         "cell_type": "code",
         "execution_count": 14,
         "metadata": {},
         "outputs": [],
         "source": [
            "# base_dist\n",
            "base_dist = define_VEM_base_dist(inferred_tau, inferred_nu, mean_gamma, cov_gamma)"
         ]
      },
      {
         "cell_type": "code",
         "execution_count": 15,
         "metadata": {},
         "outputs": [
            {
               "name": "stderr",
               "output_type": "stream",
               "text": [
                  "c:\\Users\\Paul\\Documents\\X\\4A\\S1\\HMM\\poisson_network_models\\src\\smc_2324_project\\tempering\\base_dist.py:18: RuntimeWarning: divide by zero encountered in log\n",
                  "  lp = np.log(self.p)\n"
               ]
            }
         ],
         "source": [
            "# debug\n",
            "sample = base_dist.rvs()\n",
            "assert base_dist.logpdf(sample) < 0 # not necessarily true, but should be true most of the time"
         ]
      },
      {
         "cell_type": "markdown",
         "metadata": {},
         "source": [
            "# Logtarget and model"
         ]
      },
      {
         "cell_type": "code",
         "execution_count": 16,
         "metadata": {},
         "outputs": [],
         "source": [
            "# target\n",
            "compute_llh_target = define_llh_target(prior, X, Y, k)"
         ]
      },
      {
         "cell_type": "code",
         "execution_count": 17,
         "metadata": {},
         "outputs": [],
         "source": [
            "from particles.smc_samplers import TemperingBridge\n",
            "\n",
            "class ToyBridge(TemperingBridge):\n",
            "    def logtarget(self, theta):\n",
            "        return compute_llh_target(theta)"
         ]
      },
      {
         "cell_type": "code",
         "execution_count": 18,
         "metadata": {},
         "outputs": [],
         "source": [
            "toy_bridge = ToyBridge(base_dist=base_dist)"
         ]
      },
      {
         "cell_type": "markdown",
         "metadata": {},
         "source": [
            "# Move"
         ]
      },
      {
         "cell_type": "code",
         "execution_count": 19,
         "metadata": {},
         "outputs": [],
         "source": [
            "move = FixedLenMCMCSequence(mcmc=CustomGibbs(k, e_0, e_tilde), len_chain=5)"
         ]
      },
      {
         "cell_type": "markdown",
         "metadata": {},
         "source": [
            "# AdaptiveTempering"
         ]
      },
      {
         "cell_type": "code",
         "execution_count": 20,
         "metadata": {},
         "outputs": [
            {
               "name": "stdout",
               "output_type": "stream",
               "text": [
                  "t=0, ESS=100.00, tempering exponent=0.000706\n"
               ]
            },
            {
               "name": "stderr",
               "output_type": "stream",
               "text": [
                  "c:\\Users\\Paul\\Documents\\X\\4A\\S1\\HMM\\poisson_network_models\\src\\smc_2324_project\\tempering\\base_dist.py:18: RuntimeWarning: divide by zero encountered in log\n",
                  "  lp = np.log(self.p)\n",
                  "c:\\Users\\Paul\\.conda\\envs\\hmm\\Lib\\site-packages\\particles\\smc_samplers.py:851: RuntimeWarning: invalid value encountered in add\n",
                  "  x.lpost = x.lprior + epn * x.llik\n"
               ]
            },
            {
               "name": "stdout",
               "output_type": "stream",
               "text": [
                  "t=1, Metropolis acc. rate (over 1 steps): 0.065, ESS=100.00, tempering exponent=0.00272\n",
                  "t=2, Metropolis acc. rate (over 1 steps): 0.095, ESS=100.00, tempering exponent=0.00679\n",
                  "t=3, Metropolis acc. rate (over 1 steps): 0.065, ESS=100.00, tempering exponent=0.0176\n",
                  "t=4, Metropolis acc. rate (over 1 steps): 0.070, ESS=100.00, tempering exponent=0.0371\n",
                  "t=5, Metropolis acc. rate (over 1 steps): 0.030, ESS=100.00, tempering exponent=0.0636\n",
                  "t=6, Metropolis acc. rate (over 1 steps): 0.035, ESS=100.00, tempering exponent=0.0954\n",
                  "t=7, Metropolis acc. rate (over 1 steps): 0.045, ESS=100.00, tempering exponent=0.13\n",
                  "t=8, Metropolis acc. rate (over 1 steps): 0.020, ESS=100.00, tempering exponent=0.191\n",
                  "t=9, Metropolis acc. rate (over 1 steps): 0.005, ESS=100.00, tempering exponent=0.294\n",
                  "t=10, Metropolis acc. rate (over 1 steps): 0.005, ESS=100.00, tempering exponent=0.459\n",
                  "t=11, Metropolis acc. rate (over 1 steps): 0.015, ESS=100.00, tempering exponent=0.673\n",
                  "t=12, Metropolis acc. rate (over 1 steps): 0.015, ESS=100.00, tempering exponent=0.939\n",
                  "t=13, Metropolis acc. rate (over 1 steps): 0.015, ESS=194.52, tempering exponent=1\n"
               ]
            }
         ],
         "source": [
            "import particles\n",
            "\n",
            "# finally\n",
            "fk_tpr = FlexibeAdaptiveTempering(model=toy_bridge, len_chain=100, \n",
            "                                  move=move, wastefree=False,\n",
            "                                  tempering_step_size = 0.5) # tempering_step_size = 1-tau_1\n",
            "alg = particles.SMC(fk=fk_tpr, N=200, ESSrmin=0.8,\n",
            "                    store_history=True, verbose=True)\n",
            "alg.run()"
         ]
      },
      {
         "cell_type": "markdown",
         "metadata": {},
         "source": [
            "# Plot"
         ]
      },
      {
         "cell_type": "code",
         "execution_count": 21,
         "metadata": {},
         "outputs": [
            {
               "data": {
                  "image/png": "[encoded data removed]",
                  "text/plain": [
                     "<Figure size 640x480 with 1 Axes>"
                  ]
               },
               "metadata": {},
               "output_type": "display_data"
            }
         ],
         "source": [
            "# exponents\n",
            "exponents = alg.X.shared[\"exponents\"]\n",
            "plt.plot(exponents)\n",
            "plt.title(\"exponents with tau_1 = 0.5\")\n",
            "plt.show()"
         ]
      },
      {
         "cell_type": "code",
         "execution_count": 25,
         "metadata": {},
         "outputs": [
            {
               "ename": "IndexError",
               "evalue": "list index out of range",
               "output_type": "error",
               "traceback": [
                  "\u001b[1;31m---------------------------------------------------------------------------\u001b[0m",
                  "\u001b[1;31mIndexError\u001b[0m                                Traceback (most recent call last)",
                  "Cell \u001b[1;32mIn[25], line 8\u001b[0m\n\u001b[0;32m      6\u001b[0m plt\u001b[38;5;241m.\u001b[39msubplot(\u001b[38;5;241m1\u001b[39m, \u001b[38;5;241m4\u001b[39m, beta_idx\u001b[38;5;241m+\u001b[39m\u001b[38;5;241m1\u001b[39m)\n\u001b[0;32m      7\u001b[0m \u001b[38;5;28;01mfor\u001b[39;00m t \u001b[38;5;129;01min\u001b[39;00m [num_exponents\u001b[38;5;241m/\u001b[39m\u001b[38;5;241m/\u001b[39m\u001b[38;5;241m2\u001b[39m, \u001b[38;5;28mint\u001b[39m(\u001b[38;5;241m3\u001b[39m\u001b[38;5;241m/\u001b[39m\u001b[38;5;241m4\u001b[39m\u001b[38;5;241m*\u001b[39mnum_exponents), num_exponents\u001b[38;5;241m-\u001b[39m\u001b[38;5;241m1\u001b[39m]:\n\u001b[1;32m----> 8\u001b[0m     beta_i \u001b[38;5;241m=\u001b[39m \u001b[43malg\u001b[49m\u001b[38;5;241;43m.\u001b[39;49m\u001b[43mhist\u001b[49m\u001b[38;5;241;43m.\u001b[39;49m\u001b[43mX\u001b[49m\u001b[43m[\u001b[49m\u001b[43mt\u001b[49m\u001b[43m]\u001b[49m\u001b[38;5;241m.\u001b[39mtheta[\u001b[38;5;124m\"\u001b[39m\u001b[38;5;124mtheta\u001b[39m\u001b[38;5;124m\"\u001b[39m][\u001b[38;5;124m\"\u001b[39m\u001b[38;5;124mgamma\u001b[39m\u001b[38;5;124m\"\u001b[39m][:,k\u001b[38;5;241m*\u001b[39m(k\u001b[38;5;241m+\u001b[39m\u001b[38;5;241m1\u001b[39m)\u001b[38;5;241m/\u001b[39m\u001b[38;5;241m/\u001b[39m\u001b[38;5;241m2\u001b[39m\u001b[38;5;241m+\u001b[39mbeta_idx]\n\u001b[0;32m      9\u001b[0m     weights \u001b[38;5;241m=\u001b[39m alg\u001b[38;5;241m.\u001b[39mhist\u001b[38;5;241m.\u001b[39mwgts[t]\u001b[38;5;241m.\u001b[39mW\n\u001b[0;32m     10\u001b[0m     plt\u001b[38;5;241m.\u001b[39mhist(beta_i, weights\u001b[38;5;241m=\u001b[39mweights, label\u001b[38;5;241m=\u001b[39m\u001b[38;5;124m\"\u001b[39m\u001b[38;5;124mt=\u001b[39m\u001b[38;5;132;01m%i\u001b[39;00m\u001b[38;5;124m\"\u001b[39m \u001b[38;5;241m%\u001b[39m t, \n\u001b[0;32m     11\u001b[0m              alpha\u001b[38;5;241m=\u001b[39m\u001b[38;5;241m0.5\u001b[39m, density\u001b[38;5;241m=\u001b[39m\u001b[38;5;28;01mTrue\u001b[39;00m)\n",
                  "\u001b[1;31mIndexError\u001b[0m: list index out of range"
               ]
            },
            {
               "data": {
                  "image/png": "[encoded data removed]",
                  "text/plain": [
                     "<Figure size 1200x200 with 1 Axes>"
                  ]
               },
               "metadata": {},
               "output_type": "display_data"
            }
         ],
         "source": [
            "# beta distribution\n",
            "plt.style.use('ggplot')\n",
            "fig = plt.figure(figsize=(12, 2))\n",
            "num_exponents = len(exponents)\n",
            "for beta_idx in range(4):\n",
            "    plt.subplot(1, 4, beta_idx+1)\n",
            "    for t in [num_exponents//2, int(3/4*num_exponents), num_exponents-1]:\n",
            "        beta_i = alg.hist.X[t].theta[\"theta\"][\"gamma\"][:,k*(k+1)//2+beta_idx]\n",
            "        weights = alg.hist.wgts[t].W\n",
            "        plt.hist(beta_i, weights=weights, label=\"t=%i\" % t, \n",
            "                 alpha=0.5, density=True)\n",
            "    plt.xlabel(beta_idx)\n",
            "plt.legend()"
         ]
      },
      {
         "cell_type": "code",
         "execution_count": 13,
         "outputs": [],
         "source": [
            "from scipy.cluster.hierarchy import dendrogram, linkage"
         ],
         "metadata": {
            "collapsed": false
         }
      },
      {
         "cell_type": "code",
         "execution_count": 14,
         "outputs": [],
         "source": [
            "Z = linkage(Y, 'ward')\n",
            "d = dendrogram(Z)"
         ],
         "metadata": {
            "collapsed": false
         }
      },
      {
         "cell_type": "code",
         "execution_count": 42,
         "outputs": [],
         "source": [
            "res = [(d['leaves'][i], int(d['leaves_color_list'][i][-1])) for i in range(n)]\n",
            "tau = np.zeros((n, k))\n",
            "for i, r in enumerate(res):\n",
            "    tau[i, r[1]-1] = 1"
         ],
         "metadata": {
            "collapsed": false
         }
      },
      {
         "cell_type": "code",
         "execution_count": 47,
         "outputs": [
            {
               "data": {
                  "text/plain": "array([19., 11., 10.])"
               },
               "execution_count": 47,
               "metadata": {},
               "output_type": "execute_result"
            }
         ],
         "source": [
            "np.sum(Y, axis=0)"
         ],
         "metadata": {
            "collapsed": false
         }
      },
      {
         "cell_type": "code",
         "execution_count": 48,
         "outputs": [
            {
               "data": {
                  "text/plain": "array([19., 10., 11.])"
               },
               "execution_count": 48,
               "metadata": {},
               "output_type": "execute_result"
            }
         ],
         "source": [
            "np.sum(tau, axis=0)"
         ],
         "metadata": {
            "collapsed": false
         }
      },
      {
         "cell_type": "code",
         "execution_count": null,
         "outputs": [],
         "source": [],
         "metadata": {
            "collapsed": false
         }
      }
   ],
   "metadata": {
      "kernelspec": {
         "display_name": "hmm",
         "language": "python",
         "name": "python3"
      },
      "language_info": {
         "codemirror_mode": {
            "name": "ipython",
            "version": 3
         },
         "file_extension": ".py",
         "mimetype": "text/x-python",
         "name": "python",
         "nbconvert_exporter": "python",
         "pygments_lexer": "ipython3",
         "version": "3.11.5"
      }
   },
   "nbformat": 4,
   "nbformat_minor": 2
}