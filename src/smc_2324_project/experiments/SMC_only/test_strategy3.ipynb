{
 "cells": [
  {
   "cell_type": "markdown",
   "metadata": {},
   "source": [
    "Read `about_the_implementation.md` for more info."
   ]
  },
  {
   "cell_type": "markdown",
   "metadata": {},
   "source": [
    "# Prior"
   ]
  },
  {
   "cell_type": "code",
   "execution_count": 1,
   "metadata": {},
   "outputs": [
    {
     "name": "stdout",
     "output_type": "stream",
     "text": [
      "c:\\Users\\Paul\\Documents\\X\\4A\\S1\\HMM\\poisson_network_models\n"
     ]
    }
   ],
   "source": [
    "import numpy as np\n",
    "from matplotlib import pyplot as plt\n",
    "\n",
    "import os\n",
    "os.chdir('../../../..')\n",
    "print(os.getcwd())\n",
    "\n",
    "from src.smc_2324_project.simulate.generate_dataset import *\n",
    "from src.smc_2324_project.tempering.base_dist import *\n",
    "from src.smc_2324_project.tempering.tempering import *"
   ]
  },
  {
   "cell_type": "code",
   "execution_count": 2,
   "metadata": {},
   "outputs": [],
   "source": [
    "# hyperparameters\n",
    "n, k, p = 40, 3, 4\n",
    "gamma_0 = np.array([0.6,0.6,0.6,1, 0, 3, 1.1, 2.2, 0.1, -0.3])\n",
    "V_0 = np.eye(len(gamma_0))\n",
    "e_0 = 3 * np.ones(k)\n",
    "\n",
    "# prior\n",
    "theta_prior = define_theta_prior(gamma_0, V_0, e_0)\n",
    "prior = define_prior(theta_prior, n)"
   ]
  },
  {
   "cell_type": "markdown",
   "metadata": {},
   "source": [
    "# Dataset"
   ]
  },
  {
   "cell_type": "code",
   "execution_count": 3,
   "metadata": {},
   "outputs": [],
   "source": [
    "# generate dataset\n",
    "alpha, beta, nu = generate_network_params(k, gamma_0, V_0, e_0)\n",
    "X = generate_covariates(n, p)\n",
    "sample_from_network((alpha, beta, nu), X)\n",
    "theta = (alpha,beta,nu)\n",
    "Y = sample_from_network(theta,X, return_Z=False)"
   ]
  },
  {
   "cell_type": "markdown",
   "metadata": {},
   "source": [
    "# Logtarget and model"
   ]
  },
  {
   "cell_type": "code",
   "execution_count": 4,
   "metadata": {},
   "outputs": [],
   "source": [
    "compute_llh_target = define_llh_target(prior, X, Y, k)"
   ]
  },
  {
   "cell_type": "code",
   "execution_count": 5,
   "metadata": {},
   "outputs": [],
   "source": [
    "from particles.smc_samplers import TemperingBridge\n",
    "\n",
    "class ToyBridge(TemperingBridge):\n",
    "    def logtarget(self, theta):\n",
    "        return compute_llh_target(theta)"
   ]
  },
  {
   "cell_type": "code",
   "execution_count": 6,
   "metadata": {},
   "outputs": [],
   "source": [
    "toy_bridge = ToyBridge(base_dist=prior)"
   ]
  },
  {
   "cell_type": "markdown",
   "metadata": {},
   "source": [
    "# Move"
   ]
  },
  {
   "cell_type": "code",
   "execution_count": 7,
   "metadata": {},
   "outputs": [],
   "source": [
    "move = FixedLenMCMCSequence(mcmc=CustomGibbs(k, e_0, e_0), len_chain=5)"
   ]
  },
  {
   "cell_type": "markdown",
   "metadata": {},
   "source": [
    "# AdaptiveTempering"
   ]
  },
  {
   "cell_type": "code",
   "execution_count": 8,
   "metadata": {},
   "outputs": [
    {
     "name": "stdout",
     "output_type": "stream",
     "text": [
      "t=0, ESS=100.00, tempering exponent=7.01e-06\n",
      "t=1, Metropolis acc. rate (over 1 steps): 0.105, ESS=100.00, tempering exponent=3.1e-05\n",
      "t=2, Metropolis acc. rate (over 1 steps): 0.060, ESS=100.00, tempering exponent=7.26e-05\n",
      "t=3, Metropolis acc. rate (over 1 steps): 0.090, ESS=100.00, tempering exponent=0.000128\n",
      "t=4, Metropolis acc. rate (over 1 steps): 0.045, ESS=100.00, tempering exponent=0.000209\n",
      "t=5, Metropolis acc. rate (over 1 steps): 0.025, ESS=100.00, tempering exponent=0.000311\n",
      "t=6, Metropolis acc. rate (over 1 steps): 0.045, ESS=100.00, tempering exponent=0.000466\n",
      "t=7, Metropolis acc. rate (over 1 steps): 0.040, ESS=100.00, tempering exponent=0.000614\n",
      "t=8, Metropolis acc. rate (over 1 steps): 0.040, ESS=100.00, tempering exponent=0.000768\n",
      "t=9, Metropolis acc. rate (over 1 steps): 0.035, ESS=100.00, tempering exponent=0.000958\n",
      "t=10, Metropolis acc. rate (over 1 steps): 0.005, ESS=100.00, tempering exponent=0.00115\n",
      "t=11, Metropolis acc. rate (over 1 steps): 0.020, ESS=100.00, tempering exponent=0.00144\n",
      "t=12, Metropolis acc. rate (over 1 steps): 0.020, ESS=100.00, tempering exponent=0.00182\n",
      "t=13, Metropolis acc. rate (over 1 steps): 0.010, ESS=100.00, tempering exponent=0.00242\n",
      "t=14, Metropolis acc. rate (over 1 steps): 0.010, ESS=100.00, tempering exponent=0.00298\n",
      "t=15, Metropolis acc. rate (over 1 steps): 0.005, ESS=100.00, tempering exponent=0.00377\n",
      "t=16, Metropolis acc. rate (over 1 steps): 0.000, ESS=100.00, tempering exponent=0.00476\n",
      "t=17, Metropolis acc. rate (over 1 steps): 0.010, ESS=100.00, tempering exponent=0.00604\n",
      "t=18, Metropolis acc. rate (over 1 steps): 0.010, ESS=100.00, tempering exponent=0.00736\n",
      "t=19, Metropolis acc. rate (over 1 steps): 0.005, ESS=100.00, tempering exponent=0.00901\n",
      "t=20, Metropolis acc. rate (over 1 steps): 0.000, ESS=100.00, tempering exponent=0.0107\n",
      "t=21, Metropolis acc. rate (over 1 steps): 0.005, ESS=100.00, tempering exponent=0.014\n",
      "t=22, Metropolis acc. rate (over 1 steps): 0.000, ESS=100.00, tempering exponent=0.0192\n",
      "t=23, Metropolis acc. rate (over 1 steps): 0.010, ESS=100.00, tempering exponent=0.0254\n",
      "t=24, Metropolis acc. rate (over 1 steps): 0.005, ESS=100.00, tempering exponent=0.0403\n",
      "t=25, Metropolis acc. rate (over 1 steps): 0.010, ESS=100.00, tempering exponent=0.0597\n",
      "t=26, Metropolis acc. rate (over 1 steps): 0.005, ESS=100.00, tempering exponent=0.0789\n",
      "t=27, Metropolis acc. rate (over 1 steps): 0.000, ESS=100.00, tempering exponent=0.133\n",
      "t=28, Metropolis acc. rate (over 1 steps): 0.015, ESS=100.00, tempering exponent=0.181\n",
      "t=29, Metropolis acc. rate (over 1 steps): 0.005, ESS=100.00, tempering exponent=0.232\n",
      "t=30, Metropolis acc. rate (over 1 steps): 0.000, ESS=100.00, tempering exponent=0.352\n",
      "t=31, Metropolis acc. rate (over 1 steps): 0.005, ESS=100.00, tempering exponent=0.438\n",
      "t=32, Metropolis acc. rate (over 1 steps): 0.000, ESS=100.00, tempering exponent=0.503\n",
      "t=33, Metropolis acc. rate (over 1 steps): 0.000, ESS=100.00, tempering exponent=0.582\n",
      "t=34, Metropolis acc. rate (over 1 steps): 0.000, ESS=100.00, tempering exponent=0.71\n",
      "t=35, Metropolis acc. rate (over 1 steps): 0.000, ESS=100.00, tempering exponent=0.806\n",
      "t=36, Metropolis acc. rate (over 1 steps): 0.000, ESS=100.00, tempering exponent=0.904\n",
      "t=37, Metropolis acc. rate (over 1 steps): 0.005, ESS=155.04, tempering exponent=1\n"
     ]
    }
   ],
   "source": [
    "import particles\n",
    "\n",
    "# finally\n",
    "fk_tpr = FlexibeAdaptiveTempering(model=toy_bridge, len_chain=100, \n",
    "                                  move=move, wastefree=False,\n",
    "                                  tempering_step_size = 0.5) # tempering_step_size = 1-tau_1\n",
    "alg = particles.SMC(fk=fk_tpr, N=200, ESSrmin=0.8,\n",
    "                    store_history=True, verbose=True)\n",
    "alg.run()"
   ]
  },
  {
   "cell_type": "markdown",
   "metadata": {},
   "source": [
    "# Plot"
   ]
  },
  {
   "cell_type": "code",
   "execution_count": 9,
   "metadata": {},
   "outputs": [
    {
     "data": {
      "image/png": "[encoded data removed]",
      "text/plain": [
       "<Figure size 640x480 with 1 Axes>"
      ]
     },
     "metadata": {},
     "output_type": "display_data"
    }
   ],
   "source": [
    "# exponents\n",
    "exponents = alg.X.shared[\"exponents\"]\n",
    "plt.plot(exponents)\n",
    "plt.title(\"exponents with tau_1 = 0.5\")\n",
    "plt.show()"
   ]
  },
  {
   "cell_type": "code",
   "execution_count": 10,
   "metadata": {},
   "outputs": [
    {
     "data": {
      "text/plain": [
       "<matplotlib.legend.Legend at 0x199c041fe90>"
      ]
     },
     "execution_count": 10,
     "metadata": {},
     "output_type": "execute_result"
    },
    {
     "data": {
      "image/png": "[encoded data removed]",
      "text/plain": [
       "<Figure size 1200x200 with 4 Axes>"
      ]
     },
     "metadata": {},
     "output_type": "display_data"
    }
   ],
   "source": [
    "# beta distribution\n",
    "plt.style.use('ggplot')\n",
    "fig = plt.figure(figsize=(12, 2))\n",
    "for beta_idx in range(4):\n",
    "    plt.subplot(1, 4, beta_idx+1)\n",
    "    for t in [15, 23, 35]:\n",
    "        beta_i = alg.hist.X[t].theta[\"theta\"][\"gamma\"][:,k*(k+1)//2+beta_idx]\n",
    "        weights = alg.hist.wgts[t].W\n",
    "        plt.hist(beta_i, weights=weights, label=\"t=%i\" % t, \n",
    "                 alpha=0.5, density=True)\n",
    "    plt.xlabel(beta_idx)\n",
    "plt.legend()"
   ]
  },
  {
   "cell_type": "code",
   "execution_count": null,
   "metadata": {},
   "outputs": [],
   "source": []
  }
 ],
 "metadata": {
  "kernelspec": {
   "display_name": "hmm",
   "language": "python",
   "name": "python3"
  },
  "language_info": {
   "codemirror_mode": {
    "name": "ipython",
    "version": 3
   },
   "file_extension": ".py",
   "mimetype": "text/x-python",
   "name": "python",
   "nbconvert_exporter": "python",
   "pygments_lexer": "ipython3",
   "version": "3.11.5"
  }
 },
 "nbformat": 4,
 "nbformat_minor": 2
}
