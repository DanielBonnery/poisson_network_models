{
 "cells": [
  {
   "cell_type": "code",
   "execution_count": 1,
   "metadata": {},
   "outputs": [],
   "source": [
    "import numpy as np\n",
    "from generate_dataset import *"
   ]
  },
  {
   "cell_type": "code",
   "execution_count": 2,
   "metadata": {},
   "outputs": [
    {
     "name": "stdout",
     "output_type": "stream",
     "text": [
      "alpha shape:  (2, 2)\n",
      "beta shape:  (4,)\n",
      "nu shape:  (2,)\n",
      "Y shape:  (40, 40)\n"
     ]
    }
   ],
   "source": [
    "# network\n",
    "alpha,beta,nu = generate_network_params()\n",
    "X = generate_covariates()\n",
    "print(\"alpha shape: \",alpha.shape)\n",
    "print(\"beta shape: \",beta.shape)\n",
    "print(\"nu shape: \",nu.shape)\n",
    "\n",
    "# sample from network\n",
    "theta = (alpha,beta,nu)\n",
    "Y = sample_from_network(theta,X)\n",
    "print(\"Y shape: \",Y.shape)"
   ]
  }
 ],
 "metadata": {
  "kernelspec": {
   "display_name": "hmm",
   "language": "python",
   "name": "python3"
  },
  "language_info": {
   "codemirror_mode": {
    "name": "ipython",
    "version": 3
   },
   "file_extension": ".py",
   "mimetype": "text/x-python",
   "name": "python",
   "nbconvert_exporter": "python",
   "pygments_lexer": "ipython3",
   "version": "3.11.5"
  }
 },
 "nbformat": 4,
 "nbformat_minor": 2
}
