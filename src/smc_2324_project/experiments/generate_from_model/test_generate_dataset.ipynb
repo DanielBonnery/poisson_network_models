{
 "cells": [
  {
   "cell_type": "code",
   "execution_count": 2,
   "metadata": {},
   "outputs": [],
   "source": [
    "import numpy as np\n",
    "from src.smc_2324_project.simulate.generate_dataset import generate_covariates, generate_network_params, sample_from_network"
   ]
  },
  {
   "cell_type": "code",
   "execution_count": 3,
   "metadata": {},
   "outputs": [
    {
     "name": "stdout",
     "output_type": "stream",
     "text": [
      "alpha shape:  (2, 2)\n",
      "beta shape:  (4,)\n",
      "nu shape:  (2,)\n",
      "Z shape:  (40, 2)\n",
      "Y shape:  (40, 40)\n"
     ]
    }
   ],
   "source": [
    "# hyperparameters\n",
    "n, k, p = 40, 2, 4\n",
    "gamma_0 = np.array([1, 0, 3, 1.1, 2.2, 0.1, -0.3])\n",
    "V_0 = np.eye(7) * 0.1\n",
    "e_0 = 3 * np.ones(2)\n",
    "# network\n",
    "alpha, beta, nu = generate_network_params(k, gamma_0, V_0, e_0)\n",
    "X = generate_covariates(n, p)\n",
    "# sample from network\n",
    "adj, Z = sample_from_network((alpha, beta, nu), X, return_Z=True)\n",
    "print(\"alpha shape: \", alpha.shape)\n",
    "print(\"beta shape: \", beta.shape)\n",
    "print(\"nu shape: \", nu.shape)\n",
    "\n",
    "print(\"Z shape: \", Z.shape)\n",
    "print(\"Y shape: \", adj.shape)"
   ]
  },
  {
   "cell_type": "code",
   "execution_count": 4,
   "outputs": [
    {
     "data": {
      "text/plain": "71.8275"
     },
     "execution_count": 4,
     "metadata": {},
     "output_type": "execute_result"
    }
   ],
   "source": [
    "adj.mean()"
   ],
   "metadata": {
    "collapsed": false
   }
  },
  {
   "cell_type": "code",
   "execution_count": 5,
   "outputs": [
    {
     "data": {
      "text/plain": "1413.3806980936697"
     },
     "execution_count": 5,
     "metadata": {},
     "output_type": "execute_result"
    }
   ],
   "source": [
    "adj.std()"
   ],
   "metadata": {
    "collapsed": false
   }
  },
  {
   "cell_type": "code",
   "execution_count": null,
   "outputs": [],
   "source": [],
   "metadata": {
    "collapsed": false
   }
  }
 ],
 "metadata": {
  "kernelspec": {
   "display_name": "hmm",
   "language": "python",
   "name": "python3"
  },
  "language_info": {
   "codemirror_mode": {
    "name": "ipython",
    "version": 3
   },
   "file_extension": ".py",
   "mimetype": "text/x-python",
   "name": "python",
   "nbconvert_exporter": "python",
   "pygments_lexer": "ipython3",
   "version": "3.11.5"
  }
 },
 "nbformat": 4,
 "nbformat_minor": 2
}
