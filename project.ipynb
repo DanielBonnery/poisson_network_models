{
 "cells": [
  {
   "cell_type": "markdown",
   "id": "2da73f64",
   "metadata": {},
   "source": [
    "**Article**\n",
    "\n",
    "\n",
    "***Summary*** \n",
    "\n",
    "\n",
    "***Data*** \n",
    "\n",
    "Dataset 1: flower\n",
    "\n",
    "***Data*** \n"
   ]
  },
  {
   "cell_type": "code",
   "execution_count": 1,
   "id": "b2c0a590",
   "metadata": {},
   "outputs": [
    {
     "name": "stdout",
     "output_type": "stream",
     "text": [
      "(70000, 784)\n",
      "(70000,)\n"
     ]
    }
   ],
   "source": [
    "import numpy as np\n"
   ]
  }
 ],
 "metadata": {
  "kernelspec": {
   "display_name": "Python 3",
   "language": "python",
   "name": "python3"
  },
  "language_info": {
   "codemirror_mode": {
    "name": "ipython",
    "version": 3
   },
   "file_extension": ".py",
   "mimetype": "text/x-python",
   "name": "python",
   "nbconvert_exporter": "python",
   "pygments_lexer": "ipython3",
   "version": "3.8.10"
  }
 },
 "nbformat": 4,
 "nbformat_minor": 5
}
